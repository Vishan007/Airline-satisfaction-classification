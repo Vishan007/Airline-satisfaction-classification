{
  "nbformat": 4,
  "nbformat_minor": 0,
  "metadata": {
    "colab": {
      "provenance": []
    },
    "kernelspec": {
      "name": "python3",
      "display_name": "Python 3"
    },
    "language_info": {
      "name": "python"
    }
  },
  "cells": [
    {
      "cell_type": "code",
      "execution_count": null,
      "metadata": {
        "id": "vKVPcgnFIZhR"
      },
      "outputs": [],
      "source": [
        "#importing the dependdencies\n",
        "import pandas as pd\n",
        "import numpy as np\n",
        "import matplotlib.pyplot as plt\n",
        "import seaborn as sns\n",
        "%matplotlib inline"
      ]
    },
    {
      "cell_type": "code",
      "source": [
        "data = pd.read_csv('/content/train.csv')  ##reading the csv file "
      ],
      "metadata": {
        "id": "ZO8PwT8_T3_R"
      },
      "execution_count": null,
      "outputs": []
    },
    {
      "cell_type": "code",
      "source": [
        "data.info()   ###checking the dtypes of dataset"
      ],
      "metadata": {
        "colab": {
          "base_uri": "https://localhost:8080/"
        },
        "id": "ux51ZECdT9fo",
        "outputId": "abccf441-8875-42ae-f440-cdace4ac61a0"
      },
      "execution_count": null,
      "outputs": [
        {
          "output_type": "stream",
          "name": "stdout",
          "text": [
            "<class 'pandas.core.frame.DataFrame'>\n",
            "RangeIndex: 103904 entries, 0 to 103903\n",
            "Data columns (total 25 columns):\n",
            " #   Column                             Non-Null Count   Dtype  \n",
            "---  ------                             --------------   -----  \n",
            " 0   Unnamed: 0                         103904 non-null  int64  \n",
            " 1   id                                 103904 non-null  int64  \n",
            " 2   Gender                             103904 non-null  object \n",
            " 3   Customer Type                      103904 non-null  object \n",
            " 4   Age                                103904 non-null  int64  \n",
            " 5   Type of Travel                     103904 non-null  object \n",
            " 6   Class                              103904 non-null  object \n",
            " 7   Flight Distance                    103904 non-null  int64  \n",
            " 8   Inflight wifi service              103904 non-null  int64  \n",
            " 9   Departure/Arrival time convenient  103904 non-null  int64  \n",
            " 10  Ease of Online booking             103904 non-null  int64  \n",
            " 11  Gate location                      103904 non-null  int64  \n",
            " 12  Food and drink                     103904 non-null  int64  \n",
            " 13  Online boarding                    103904 non-null  int64  \n",
            " 14  Seat comfort                       103904 non-null  int64  \n",
            " 15  Inflight entertainment             103904 non-null  int64  \n",
            " 16  On-board service                   103904 non-null  int64  \n",
            " 17  Leg room service                   103904 non-null  int64  \n",
            " 18  Baggage handling                   103904 non-null  int64  \n",
            " 19  Checkin service                    103904 non-null  int64  \n",
            " 20  Inflight service                   103904 non-null  int64  \n",
            " 21  Cleanliness                        103904 non-null  int64  \n",
            " 22  Departure Delay in Minutes         103904 non-null  int64  \n",
            " 23  Arrival Delay in Minutes           103594 non-null  float64\n",
            " 24  satisfaction                       103904 non-null  object \n",
            "dtypes: float64(1), int64(19), object(5)\n",
            "memory usage: 19.8+ MB\n"
          ]
        }
      ]
    },
    {
      "cell_type": "code",
      "source": [
        "int_data = data.select_dtypes(include='int') ##checking for int data types\n",
        "obj_data = data.select_dtypes(include='O')\n",
        "flt_data = data.select_dtypes(include='float') "
      ],
      "metadata": {
        "id": "6p4weah5Vm-E"
      },
      "execution_count": null,
      "outputs": []
    },
    {
      "cell_type": "code",
      "source": [
        "data.isnull().sum()    ##checking for null values in dataset"
      ],
      "metadata": {
        "colab": {
          "base_uri": "https://localhost:8080/"
        },
        "id": "iD-sgWAkU4kl",
        "outputId": "1b1bbcd1-778c-4fcc-c5b9-fd27f14f9eb2"
      },
      "execution_count": null,
      "outputs": [
        {
          "output_type": "execute_result",
          "data": {
            "text/plain": [
              "Unnamed: 0                             0\n",
              "id                                     0\n",
              "Gender                                 0\n",
              "Customer Type                          0\n",
              "Age                                    0\n",
              "Type of Travel                         0\n",
              "Class                                  0\n",
              "Flight Distance                        0\n",
              "Inflight wifi service                  0\n",
              "Departure/Arrival time convenient      0\n",
              "Ease of Online booking                 0\n",
              "Gate location                          0\n",
              "Food and drink                         0\n",
              "Online boarding                        0\n",
              "Seat comfort                           0\n",
              "Inflight entertainment                 0\n",
              "On-board service                       0\n",
              "Leg room service                       0\n",
              "Baggage handling                       0\n",
              "Checkin service                        0\n",
              "Inflight service                       0\n",
              "Cleanliness                            0\n",
              "Departure Delay in Minutes             0\n",
              "Arrival Delay in Minutes             310\n",
              "satisfaction                           0\n",
              "dtype: int64"
            ]
          },
          "metadata": {},
          "execution_count": 5
        }
      ]
    },
    {
      "cell_type": "markdown",
      "source": [
        "Observation :-We can see there are missing values in arrival delay columns"
      ],
      "metadata": {
        "id": "0-TMuc86VeWb"
      }
    },
    {
      "cell_type": "code",
      "source": [
        "data.head(1)  ##visualizing the data set "
      ],
      "metadata": {
        "colab": {
          "base_uri": "https://localhost:8080/",
          "height": 244
        },
        "id": "PtCZgQdkVOn3",
        "outputId": "b5077020-e2a2-4e5f-9cc9-bb8d57394eb6"
      },
      "execution_count": null,
      "outputs": [
        {
          "output_type": "execute_result",
          "data": {
            "text/plain": [
              "   Unnamed: 0     id Gender   Customer Type  Age   Type of Travel     Class  \\\n",
              "0           0  70172   Male  Loyal Customer   13  Personal Travel  Eco Plus   \n",
              "\n",
              "   Flight Distance  Inflight wifi service  Departure/Arrival time convenient  \\\n",
              "0              460                      3                                  4   \n",
              "\n",
              "   ...  Inflight entertainment  On-board service  Leg room service  \\\n",
              "0  ...                       5                 4                 3   \n",
              "\n",
              "   Baggage handling  Checkin service  Inflight service  Cleanliness  \\\n",
              "0                 4                4                 5            5   \n",
              "\n",
              "   Departure Delay in Minutes  Arrival Delay in Minutes  \\\n",
              "0                          25                      18.0   \n",
              "\n",
              "              satisfaction  \n",
              "0  neutral or dissatisfied  \n",
              "\n",
              "[1 rows x 25 columns]"
            ],
            "text/html": [
              "\n",
              "  <div id=\"df-d704561b-746c-4fff-9a57-7b93a4c8f7c4\">\n",
              "    <div class=\"colab-df-container\">\n",
              "      <div>\n",
              "<style scoped>\n",
              "    .dataframe tbody tr th:only-of-type {\n",
              "        vertical-align: middle;\n",
              "    }\n",
              "\n",
              "    .dataframe tbody tr th {\n",
              "        vertical-align: top;\n",
              "    }\n",
              "\n",
              "    .dataframe thead th {\n",
              "        text-align: right;\n",
              "    }\n",
              "</style>\n",
              "<table border=\"1\" class=\"dataframe\">\n",
              "  <thead>\n",
              "    <tr style=\"text-align: right;\">\n",
              "      <th></th>\n",
              "      <th>Unnamed: 0</th>\n",
              "      <th>id</th>\n",
              "      <th>Gender</th>\n",
              "      <th>Customer Type</th>\n",
              "      <th>Age</th>\n",
              "      <th>Type of Travel</th>\n",
              "      <th>Class</th>\n",
              "      <th>Flight Distance</th>\n",
              "      <th>Inflight wifi service</th>\n",
              "      <th>Departure/Arrival time convenient</th>\n",
              "      <th>...</th>\n",
              "      <th>Inflight entertainment</th>\n",
              "      <th>On-board service</th>\n",
              "      <th>Leg room service</th>\n",
              "      <th>Baggage handling</th>\n",
              "      <th>Checkin service</th>\n",
              "      <th>Inflight service</th>\n",
              "      <th>Cleanliness</th>\n",
              "      <th>Departure Delay in Minutes</th>\n",
              "      <th>Arrival Delay in Minutes</th>\n",
              "      <th>satisfaction</th>\n",
              "    </tr>\n",
              "  </thead>\n",
              "  <tbody>\n",
              "    <tr>\n",
              "      <th>0</th>\n",
              "      <td>0</td>\n",
              "      <td>70172</td>\n",
              "      <td>Male</td>\n",
              "      <td>Loyal Customer</td>\n",
              "      <td>13</td>\n",
              "      <td>Personal Travel</td>\n",
              "      <td>Eco Plus</td>\n",
              "      <td>460</td>\n",
              "      <td>3</td>\n",
              "      <td>4</td>\n",
              "      <td>...</td>\n",
              "      <td>5</td>\n",
              "      <td>4</td>\n",
              "      <td>3</td>\n",
              "      <td>4</td>\n",
              "      <td>4</td>\n",
              "      <td>5</td>\n",
              "      <td>5</td>\n",
              "      <td>25</td>\n",
              "      <td>18.0</td>\n",
              "      <td>neutral or dissatisfied</td>\n",
              "    </tr>\n",
              "  </tbody>\n",
              "</table>\n",
              "<p>1 rows × 25 columns</p>\n",
              "</div>\n",
              "      <button class=\"colab-df-convert\" onclick=\"convertToInteractive('df-d704561b-746c-4fff-9a57-7b93a4c8f7c4')\"\n",
              "              title=\"Convert this dataframe to an interactive table.\"\n",
              "              style=\"display:none;\">\n",
              "        \n",
              "  <svg xmlns=\"http://www.w3.org/2000/svg\" height=\"24px\"viewBox=\"0 0 24 24\"\n",
              "       width=\"24px\">\n",
              "    <path d=\"M0 0h24v24H0V0z\" fill=\"none\"/>\n",
              "    <path d=\"M18.56 5.44l.94 2.06.94-2.06 2.06-.94-2.06-.94-.94-2.06-.94 2.06-2.06.94zm-11 1L8.5 8.5l.94-2.06 2.06-.94-2.06-.94L8.5 2.5l-.94 2.06-2.06.94zm10 10l.94 2.06.94-2.06 2.06-.94-2.06-.94-.94-2.06-.94 2.06-2.06.94z\"/><path d=\"M17.41 7.96l-1.37-1.37c-.4-.4-.92-.59-1.43-.59-.52 0-1.04.2-1.43.59L10.3 9.45l-7.72 7.72c-.78.78-.78 2.05 0 2.83L4 21.41c.39.39.9.59 1.41.59.51 0 1.02-.2 1.41-.59l7.78-7.78 2.81-2.81c.8-.78.8-2.07 0-2.86zM5.41 20L4 18.59l7.72-7.72 1.47 1.35L5.41 20z\"/>\n",
              "  </svg>\n",
              "      </button>\n",
              "      \n",
              "  <style>\n",
              "    .colab-df-container {\n",
              "      display:flex;\n",
              "      flex-wrap:wrap;\n",
              "      gap: 12px;\n",
              "    }\n",
              "\n",
              "    .colab-df-convert {\n",
              "      background-color: #E8F0FE;\n",
              "      border: none;\n",
              "      border-radius: 50%;\n",
              "      cursor: pointer;\n",
              "      display: none;\n",
              "      fill: #1967D2;\n",
              "      height: 32px;\n",
              "      padding: 0 0 0 0;\n",
              "      width: 32px;\n",
              "    }\n",
              "\n",
              "    .colab-df-convert:hover {\n",
              "      background-color: #E2EBFA;\n",
              "      box-shadow: 0px 1px 2px rgba(60, 64, 67, 0.3), 0px 1px 3px 1px rgba(60, 64, 67, 0.15);\n",
              "      fill: #174EA6;\n",
              "    }\n",
              "\n",
              "    [theme=dark] .colab-df-convert {\n",
              "      background-color: #3B4455;\n",
              "      fill: #D2E3FC;\n",
              "    }\n",
              "\n",
              "    [theme=dark] .colab-df-convert:hover {\n",
              "      background-color: #434B5C;\n",
              "      box-shadow: 0px 1px 3px 1px rgba(0, 0, 0, 0.15);\n",
              "      filter: drop-shadow(0px 1px 2px rgba(0, 0, 0, 0.3));\n",
              "      fill: #FFFFFF;\n",
              "    }\n",
              "  </style>\n",
              "\n",
              "      <script>\n",
              "        const buttonEl =\n",
              "          document.querySelector('#df-d704561b-746c-4fff-9a57-7b93a4c8f7c4 button.colab-df-convert');\n",
              "        buttonEl.style.display =\n",
              "          google.colab.kernel.accessAllowed ? 'block' : 'none';\n",
              "\n",
              "        async function convertToInteractive(key) {\n",
              "          const element = document.querySelector('#df-d704561b-746c-4fff-9a57-7b93a4c8f7c4');\n",
              "          const dataTable =\n",
              "            await google.colab.kernel.invokeFunction('convertToInteractive',\n",
              "                                                     [key], {});\n",
              "          if (!dataTable) return;\n",
              "\n",
              "          const docLinkHtml = 'Like what you see? Visit the ' +\n",
              "            '<a target=\"_blank\" href=https://colab.research.google.com/notebooks/data_table.ipynb>data table notebook</a>'\n",
              "            + ' to learn more about interactive tables.';\n",
              "          element.innerHTML = '';\n",
              "          dataTable['output_type'] = 'display_data';\n",
              "          await google.colab.output.renderOutput(dataTable, element);\n",
              "          const docLink = document.createElement('div');\n",
              "          docLink.innerHTML = docLinkHtml;\n",
              "          element.appendChild(docLink);\n",
              "        }\n",
              "      </script>\n",
              "    </div>\n",
              "  </div>\n",
              "  "
            ]
          },
          "metadata": {},
          "execution_count": 6
        }
      ]
    },
    {
      "cell_type": "code",
      "source": [
        "pd.set_option('max_columns' , None)   ## visualizing all the columns of data sets \n",
        "data.head()  "
      ],
      "metadata": {
        "colab": {
          "base_uri": "https://localhost:8080/",
          "height": 409
        },
        "id": "Jc0m4f2DVdxM",
        "outputId": "8631e2cb-1e61-4a3b-ce4e-4f1647788619"
      },
      "execution_count": null,
      "outputs": [
        {
          "output_type": "execute_result",
          "data": {
            "text/plain": [
              "   Unnamed: 0      id  Gender      Customer Type  Age   Type of Travel  \\\n",
              "0           0   70172    Male     Loyal Customer   13  Personal Travel   \n",
              "1           1    5047    Male  disloyal Customer   25  Business travel   \n",
              "2           2  110028  Female     Loyal Customer   26  Business travel   \n",
              "3           3   24026  Female     Loyal Customer   25  Business travel   \n",
              "4           4  119299    Male     Loyal Customer   61  Business travel   \n",
              "\n",
              "      Class  Flight Distance  Inflight wifi service  \\\n",
              "0  Eco Plus              460                      3   \n",
              "1  Business              235                      3   \n",
              "2  Business             1142                      2   \n",
              "3  Business              562                      2   \n",
              "4  Business              214                      3   \n",
              "\n",
              "   Departure/Arrival time convenient  Ease of Online booking  Gate location  \\\n",
              "0                                  4                       3              1   \n",
              "1                                  2                       3              3   \n",
              "2                                  2                       2              2   \n",
              "3                                  5                       5              5   \n",
              "4                                  3                       3              3   \n",
              "\n",
              "   Food and drink  Online boarding  Seat comfort  Inflight entertainment  \\\n",
              "0               5                3             5                       5   \n",
              "1               1                3             1                       1   \n",
              "2               5                5             5                       5   \n",
              "3               2                2             2                       2   \n",
              "4               4                5             5                       3   \n",
              "\n",
              "   On-board service  Leg room service  Baggage handling  Checkin service  \\\n",
              "0                 4                 3                 4                4   \n",
              "1                 1                 5                 3                1   \n",
              "2                 4                 3                 4                4   \n",
              "3                 2                 5                 3                1   \n",
              "4                 3                 4                 4                3   \n",
              "\n",
              "   Inflight service  Cleanliness  Departure Delay in Minutes  \\\n",
              "0                 5            5                          25   \n",
              "1                 4            1                           1   \n",
              "2                 4            5                           0   \n",
              "3                 4            2                          11   \n",
              "4                 3            3                           0   \n",
              "\n",
              "   Arrival Delay in Minutes             satisfaction  \n",
              "0                      18.0  neutral or dissatisfied  \n",
              "1                       6.0  neutral or dissatisfied  \n",
              "2                       0.0                satisfied  \n",
              "3                       9.0  neutral or dissatisfied  \n",
              "4                       0.0                satisfied  "
            ],
            "text/html": [
              "\n",
              "  <div id=\"df-3da02929-35cf-4a31-9f90-4ff21304f4d6\">\n",
              "    <div class=\"colab-df-container\">\n",
              "      <div>\n",
              "<style scoped>\n",
              "    .dataframe tbody tr th:only-of-type {\n",
              "        vertical-align: middle;\n",
              "    }\n",
              "\n",
              "    .dataframe tbody tr th {\n",
              "        vertical-align: top;\n",
              "    }\n",
              "\n",
              "    .dataframe thead th {\n",
              "        text-align: right;\n",
              "    }\n",
              "</style>\n",
              "<table border=\"1\" class=\"dataframe\">\n",
              "  <thead>\n",
              "    <tr style=\"text-align: right;\">\n",
              "      <th></th>\n",
              "      <th>Unnamed: 0</th>\n",
              "      <th>id</th>\n",
              "      <th>Gender</th>\n",
              "      <th>Customer Type</th>\n",
              "      <th>Age</th>\n",
              "      <th>Type of Travel</th>\n",
              "      <th>Class</th>\n",
              "      <th>Flight Distance</th>\n",
              "      <th>Inflight wifi service</th>\n",
              "      <th>Departure/Arrival time convenient</th>\n",
              "      <th>Ease of Online booking</th>\n",
              "      <th>Gate location</th>\n",
              "      <th>Food and drink</th>\n",
              "      <th>Online boarding</th>\n",
              "      <th>Seat comfort</th>\n",
              "      <th>Inflight entertainment</th>\n",
              "      <th>On-board service</th>\n",
              "      <th>Leg room service</th>\n",
              "      <th>Baggage handling</th>\n",
              "      <th>Checkin service</th>\n",
              "      <th>Inflight service</th>\n",
              "      <th>Cleanliness</th>\n",
              "      <th>Departure Delay in Minutes</th>\n",
              "      <th>Arrival Delay in Minutes</th>\n",
              "      <th>satisfaction</th>\n",
              "    </tr>\n",
              "  </thead>\n",
              "  <tbody>\n",
              "    <tr>\n",
              "      <th>0</th>\n",
              "      <td>0</td>\n",
              "      <td>70172</td>\n",
              "      <td>Male</td>\n",
              "      <td>Loyal Customer</td>\n",
              "      <td>13</td>\n",
              "      <td>Personal Travel</td>\n",
              "      <td>Eco Plus</td>\n",
              "      <td>460</td>\n",
              "      <td>3</td>\n",
              "      <td>4</td>\n",
              "      <td>3</td>\n",
              "      <td>1</td>\n",
              "      <td>5</td>\n",
              "      <td>3</td>\n",
              "      <td>5</td>\n",
              "      <td>5</td>\n",
              "      <td>4</td>\n",
              "      <td>3</td>\n",
              "      <td>4</td>\n",
              "      <td>4</td>\n",
              "      <td>5</td>\n",
              "      <td>5</td>\n",
              "      <td>25</td>\n",
              "      <td>18.0</td>\n",
              "      <td>neutral or dissatisfied</td>\n",
              "    </tr>\n",
              "    <tr>\n",
              "      <th>1</th>\n",
              "      <td>1</td>\n",
              "      <td>5047</td>\n",
              "      <td>Male</td>\n",
              "      <td>disloyal Customer</td>\n",
              "      <td>25</td>\n",
              "      <td>Business travel</td>\n",
              "      <td>Business</td>\n",
              "      <td>235</td>\n",
              "      <td>3</td>\n",
              "      <td>2</td>\n",
              "      <td>3</td>\n",
              "      <td>3</td>\n",
              "      <td>1</td>\n",
              "      <td>3</td>\n",
              "      <td>1</td>\n",
              "      <td>1</td>\n",
              "      <td>1</td>\n",
              "      <td>5</td>\n",
              "      <td>3</td>\n",
              "      <td>1</td>\n",
              "      <td>4</td>\n",
              "      <td>1</td>\n",
              "      <td>1</td>\n",
              "      <td>6.0</td>\n",
              "      <td>neutral or dissatisfied</td>\n",
              "    </tr>\n",
              "    <tr>\n",
              "      <th>2</th>\n",
              "      <td>2</td>\n",
              "      <td>110028</td>\n",
              "      <td>Female</td>\n",
              "      <td>Loyal Customer</td>\n",
              "      <td>26</td>\n",
              "      <td>Business travel</td>\n",
              "      <td>Business</td>\n",
              "      <td>1142</td>\n",
              "      <td>2</td>\n",
              "      <td>2</td>\n",
              "      <td>2</td>\n",
              "      <td>2</td>\n",
              "      <td>5</td>\n",
              "      <td>5</td>\n",
              "      <td>5</td>\n",
              "      <td>5</td>\n",
              "      <td>4</td>\n",
              "      <td>3</td>\n",
              "      <td>4</td>\n",
              "      <td>4</td>\n",
              "      <td>4</td>\n",
              "      <td>5</td>\n",
              "      <td>0</td>\n",
              "      <td>0.0</td>\n",
              "      <td>satisfied</td>\n",
              "    </tr>\n",
              "    <tr>\n",
              "      <th>3</th>\n",
              "      <td>3</td>\n",
              "      <td>24026</td>\n",
              "      <td>Female</td>\n",
              "      <td>Loyal Customer</td>\n",
              "      <td>25</td>\n",
              "      <td>Business travel</td>\n",
              "      <td>Business</td>\n",
              "      <td>562</td>\n",
              "      <td>2</td>\n",
              "      <td>5</td>\n",
              "      <td>5</td>\n",
              "      <td>5</td>\n",
              "      <td>2</td>\n",
              "      <td>2</td>\n",
              "      <td>2</td>\n",
              "      <td>2</td>\n",
              "      <td>2</td>\n",
              "      <td>5</td>\n",
              "      <td>3</td>\n",
              "      <td>1</td>\n",
              "      <td>4</td>\n",
              "      <td>2</td>\n",
              "      <td>11</td>\n",
              "      <td>9.0</td>\n",
              "      <td>neutral or dissatisfied</td>\n",
              "    </tr>\n",
              "    <tr>\n",
              "      <th>4</th>\n",
              "      <td>4</td>\n",
              "      <td>119299</td>\n",
              "      <td>Male</td>\n",
              "      <td>Loyal Customer</td>\n",
              "      <td>61</td>\n",
              "      <td>Business travel</td>\n",
              "      <td>Business</td>\n",
              "      <td>214</td>\n",
              "      <td>3</td>\n",
              "      <td>3</td>\n",
              "      <td>3</td>\n",
              "      <td>3</td>\n",
              "      <td>4</td>\n",
              "      <td>5</td>\n",
              "      <td>5</td>\n",
              "      <td>3</td>\n",
              "      <td>3</td>\n",
              "      <td>4</td>\n",
              "      <td>4</td>\n",
              "      <td>3</td>\n",
              "      <td>3</td>\n",
              "      <td>3</td>\n",
              "      <td>0</td>\n",
              "      <td>0.0</td>\n",
              "      <td>satisfied</td>\n",
              "    </tr>\n",
              "  </tbody>\n",
              "</table>\n",
              "</div>\n",
              "      <button class=\"colab-df-convert\" onclick=\"convertToInteractive('df-3da02929-35cf-4a31-9f90-4ff21304f4d6')\"\n",
              "              title=\"Convert this dataframe to an interactive table.\"\n",
              "              style=\"display:none;\">\n",
              "        \n",
              "  <svg xmlns=\"http://www.w3.org/2000/svg\" height=\"24px\"viewBox=\"0 0 24 24\"\n",
              "       width=\"24px\">\n",
              "    <path d=\"M0 0h24v24H0V0z\" fill=\"none\"/>\n",
              "    <path d=\"M18.56 5.44l.94 2.06.94-2.06 2.06-.94-2.06-.94-.94-2.06-.94 2.06-2.06.94zm-11 1L8.5 8.5l.94-2.06 2.06-.94-2.06-.94L8.5 2.5l-.94 2.06-2.06.94zm10 10l.94 2.06.94-2.06 2.06-.94-2.06-.94-.94-2.06-.94 2.06-2.06.94z\"/><path d=\"M17.41 7.96l-1.37-1.37c-.4-.4-.92-.59-1.43-.59-.52 0-1.04.2-1.43.59L10.3 9.45l-7.72 7.72c-.78.78-.78 2.05 0 2.83L4 21.41c.39.39.9.59 1.41.59.51 0 1.02-.2 1.41-.59l7.78-7.78 2.81-2.81c.8-.78.8-2.07 0-2.86zM5.41 20L4 18.59l7.72-7.72 1.47 1.35L5.41 20z\"/>\n",
              "  </svg>\n",
              "      </button>\n",
              "      \n",
              "  <style>\n",
              "    .colab-df-container {\n",
              "      display:flex;\n",
              "      flex-wrap:wrap;\n",
              "      gap: 12px;\n",
              "    }\n",
              "\n",
              "    .colab-df-convert {\n",
              "      background-color: #E8F0FE;\n",
              "      border: none;\n",
              "      border-radius: 50%;\n",
              "      cursor: pointer;\n",
              "      display: none;\n",
              "      fill: #1967D2;\n",
              "      height: 32px;\n",
              "      padding: 0 0 0 0;\n",
              "      width: 32px;\n",
              "    }\n",
              "\n",
              "    .colab-df-convert:hover {\n",
              "      background-color: #E2EBFA;\n",
              "      box-shadow: 0px 1px 2px rgba(60, 64, 67, 0.3), 0px 1px 3px 1px rgba(60, 64, 67, 0.15);\n",
              "      fill: #174EA6;\n",
              "    }\n",
              "\n",
              "    [theme=dark] .colab-df-convert {\n",
              "      background-color: #3B4455;\n",
              "      fill: #D2E3FC;\n",
              "    }\n",
              "\n",
              "    [theme=dark] .colab-df-convert:hover {\n",
              "      background-color: #434B5C;\n",
              "      box-shadow: 0px 1px 3px 1px rgba(0, 0, 0, 0.15);\n",
              "      filter: drop-shadow(0px 1px 2px rgba(0, 0, 0, 0.3));\n",
              "      fill: #FFFFFF;\n",
              "    }\n",
              "  </style>\n",
              "\n",
              "      <script>\n",
              "        const buttonEl =\n",
              "          document.querySelector('#df-3da02929-35cf-4a31-9f90-4ff21304f4d6 button.colab-df-convert');\n",
              "        buttonEl.style.display =\n",
              "          google.colab.kernel.accessAllowed ? 'block' : 'none';\n",
              "\n",
              "        async function convertToInteractive(key) {\n",
              "          const element = document.querySelector('#df-3da02929-35cf-4a31-9f90-4ff21304f4d6');\n",
              "          const dataTable =\n",
              "            await google.colab.kernel.invokeFunction('convertToInteractive',\n",
              "                                                     [key], {});\n",
              "          if (!dataTable) return;\n",
              "\n",
              "          const docLinkHtml = 'Like what you see? Visit the ' +\n",
              "            '<a target=\"_blank\" href=https://colab.research.google.com/notebooks/data_table.ipynb>data table notebook</a>'\n",
              "            + ' to learn more about interactive tables.';\n",
              "          element.innerHTML = '';\n",
              "          dataTable['output_type'] = 'display_data';\n",
              "          await google.colab.output.renderOutput(dataTable, element);\n",
              "          const docLink = document.createElement('div');\n",
              "          docLink.innerHTML = docLinkHtml;\n",
              "          element.appendChild(docLink);\n",
              "        }\n",
              "      </script>\n",
              "    </div>\n",
              "  </div>\n",
              "  "
            ]
          },
          "metadata": {},
          "execution_count": 7
        }
      ]
    },
    {
      "cell_type": "markdown",
      "source": [
        "**Handling the missing Values**\n",
        "\n",
        "Checking the distribution of arrival delay in minutes"
      ],
      "metadata": {
        "id": "3OsX5_DsY9OE"
      }
    },
    {
      "cell_type": "code",
      "source": [
        "sns.distplot(data['Arrival Delay in Minutes'])   ##distribution of arrival delay time"
      ],
      "metadata": {
        "colab": {
          "base_uri": "https://localhost:8080/",
          "height": 351
        },
        "id": "jKrbCMBJZb3R",
        "outputId": "ac22d3f8-f526-4cc4-c49f-aaa6319397b3"
      },
      "execution_count": null,
      "outputs": [
        {
          "output_type": "stream",
          "name": "stderr",
          "text": [
            "/usr/local/lib/python3.8/dist-packages/seaborn/distributions.py:2619: FutureWarning: `distplot` is a deprecated function and will be removed in a future version. Please adapt your code to use either `displot` (a figure-level function with similar flexibility) or `histplot` (an axes-level function for histograms).\n",
            "  warnings.warn(msg, FutureWarning)\n"
          ]
        },
        {
          "output_type": "execute_result",
          "data": {
            "text/plain": [
              "<AxesSubplot:xlabel='Arrival Delay in Minutes', ylabel='Density'>"
            ]
          },
          "metadata": {},
          "execution_count": 8
        },
        {
          "output_type": "display_data",
          "data": {
            "text/plain": [
              "<Figure size 432x288 with 1 Axes>"
            ],
            "image/png": "[encoded data removed]"
          },
          "metadata": {
            "needs_background": "light"
          }
        }
      ]
    },
    {
      "cell_type": "code",
      "source": [
        "sns.boxplot(data = data['Arrival Delay in Minutes'])         ##checking for the outliers and there are many outliers"
      ],
      "metadata": {
        "colab": {
          "base_uri": "https://localhost:8080/",
          "height": 282
        },
        "id": "GzF2s9KmkQM7",
        "outputId": "919eb337-2e63-4d9c-f025-2edc6aaa2459"
      },
      "execution_count": null,
      "outputs": [
        {
          "output_type": "execute_result",
          "data": {
            "text/plain": [
              "<AxesSubplot:>"
            ]
          },
          "metadata": {},
          "execution_count": 9
        },
        {
          "output_type": "display_data",
          "data": {
            "text/plain": [
              "<Figure size 432x288 with 1 Axes>"
            ],
            "image/png": "[encoded data removed]"
          },
          "metadata": {
            "needs_background": "light"
          }
        }
      ]
    },
    {
      "cell_type": "code",
      "source": [
        "data['Arrival Delay in Minutes'] = data['Arrival Delay in Minutes'].fillna((data['Arrival Delay in Minutes'].median()))  ##as there are many outliers we are filling the na value with median"
      ],
      "metadata": {
        "id": "v0bzG2jUnSG_"
      },
      "execution_count": null,
      "outputs": []
    },
    {
      "cell_type": "markdown",
      "source": [
        "Observation ▶ As there are many outliers we are using median to fill missing values.\n",
        "\n",
        "data[Arrival Delay in Minutes] - mean = 15 and median = 0"
      ],
      "metadata": {
        "id": "XfqUhHbssmzV"
      }
    },
    {
      "cell_type": "markdown",
      "source": [
        "**Handling the categorical features**"
      ],
      "metadata": {
        "id": "-xc7G9Y6t7ZP"
      }
    },
    {
      "cell_type": "code",
      "source": [
        "obj_data.columns  ##checking the column name of categorical features"
      ],
      "metadata": {
        "colab": {
          "base_uri": "https://localhost:8080/"
        },
        "id": "n4XQ9-IWtQkG",
        "outputId": "8f7327d0-07e1-465f-8354-ec97102af8d2"
      },
      "execution_count": null,
      "outputs": [
        {
          "output_type": "execute_result",
          "data": {
            "text/plain": [
              "Index(['Gender', 'Customer Type', 'Type of Travel', 'Class', 'satisfaction'], dtype='object')"
            ]
          },
          "metadata": {},
          "execution_count": 11
        }
      ]
    },
    {
      "cell_type": "code",
      "source": [
        "###checking for the unique values in categorical features\n",
        "for i in obj_data.columns:\n",
        "  x=data[i].unique()\n",
        "  print(x)"
      ],
      "metadata": {
        "colab": {
          "base_uri": "https://localhost:8080/"
        },
        "id": "YKGx-twBteHY",
        "outputId": "673f1262-ba2d-4d9b-cbf8-529674d03446"
      },
      "execution_count": null,
      "outputs": [
        {
          "output_type": "stream",
          "name": "stdout",
          "text": [
            "['Male' 'Female']\n",
            "['Loyal Customer' 'disloyal Customer']\n",
            "['Personal Travel' 'Business travel']\n",
            "['Eco Plus' 'Business' 'Eco']\n",
            "['neutral or dissatisfied' 'satisfied']\n"
          ]
        }
      ]
    },
    {
      "cell_type": "code",
      "source": [
        "##using label encoder technique as there are less number unique values for categorical features and Class can be treated as ordinal categorical data.\n",
        "from sklearn.preprocessing import LabelEncoder\n",
        "label = LabelEncoder()"
      ],
      "metadata": {
        "id": "c2YxMvxvv7rH"
      },
      "execution_count": null,
      "outputs": []
    },
    {
      "cell_type": "code",
      "source": [
        "for i in obj_data.columns:\n",
        "  data[i] = label.fit_transform(data[i])\n",
        "  print('Label encodig is done for {}'.format(i))  "
      ],
      "metadata": {
        "colab": {
          "base_uri": "https://localhost:8080/"
        },
        "id": "eTnHc0O50BQ6",
        "outputId": "4b48d6a6-b625-48d7-89e8-3daf4f97ab5c"
      },
      "execution_count": null,
      "outputs": [
        {
          "output_type": "stream",
          "name": "stdout",
          "text": [
            "Label encodig is done for Gender\n",
            "Label encodig is done for Customer Type\n",
            "Label encodig is done for Type of Travel\n",
            "Label encodig is done for Class\n",
            "Label encodig is done for satisfaction\n"
          ]
        }
      ]
    },
    {
      "cell_type": "code",
      "source": [
        "data.head(5)    ###All the data is now in numerical format"
      ],
      "metadata": {
        "colab": {
          "base_uri": "https://localhost:8080/",
          "height": 322
        },
        "id": "Sz2E7z8c1AiH",
        "outputId": "eef941ff-001f-47fb-f6f7-d60c17f1d908"
      },
      "execution_count": null,
      "outputs": [
        {
          "output_type": "execute_result",
          "data": {
            "text/plain": [
              "   Unnamed: 0      id  Gender  Customer Type  Age  Type of Travel  Class  \\\n",
              "0           0   70172       1              0   13               1      2   \n",
              "1           1    5047       1              1   25               0      0   \n",
              "2           2  110028       0              0   26               0      0   \n",
              "3           3   24026       0              0   25               0      0   \n",
              "4           4  119299       1              0   61               0      0   \n",
              "\n",
              "   Flight Distance  Inflight wifi service  Departure/Arrival time convenient  \\\n",
              "0              460                      3                                  4   \n",
              "1              235                      3                                  2   \n",
              "2             1142                      2                                  2   \n",
              "3              562                      2                                  5   \n",
              "4              214                      3                                  3   \n",
              "\n",
              "   Ease of Online booking  Gate location  Food and drink  Online boarding  \\\n",
              "0                       3              1               5                3   \n",
              "1                       3              3               1                3   \n",
              "2                       2              2               5                5   \n",
              "3                       5              5               2                2   \n",
              "4                       3              3               4                5   \n",
              "\n",
              "   Seat comfort  Inflight entertainment  On-board service  Leg room service  \\\n",
              "0             5                       5                 4                 3   \n",
              "1             1                       1                 1                 5   \n",
              "2             5                       5                 4                 3   \n",
              "3             2                       2                 2                 5   \n",
              "4             5                       3                 3                 4   \n",
              "\n",
              "   Baggage handling  Checkin service  Inflight service  Cleanliness  \\\n",
              "0                 4                4                 5            5   \n",
              "1                 3                1                 4            1   \n",
              "2                 4                4                 4            5   \n",
              "3                 3                1                 4            2   \n",
              "4                 4                3                 3            3   \n",
              "\n",
              "   Departure Delay in Minutes  Arrival Delay in Minutes  satisfaction  \n",
              "0                          25                      18.0             0  \n",
              "1                           1                       6.0             0  \n",
              "2                           0                       0.0             1  \n",
              "3                          11                       9.0             0  \n",
              "4                           0                       0.0             1  "
            ],
            "text/html": [
              "\n",
              "  <div id=\"df-ebe8c9b8-6e88-4240-9d82-0ddcfc9f097b\">\n",
              "    <div class=\"colab-df-container\">\n",
              "      <div>\n",
              "<style scoped>\n",
              "    .dataframe tbody tr th:only-of-type {\n",
              "        vertical-align: middle;\n",
              "    }\n",
              "\n",
              "    .dataframe tbody tr th {\n",
              "        vertical-align: top;\n",
              "    }\n",
              "\n",
              "    .dataframe thead th {\n",
              "        text-align: right;\n",
              "    }\n",
              "</style>\n",
              "<table border=\"1\" class=\"dataframe\">\n",
              "  <thead>\n",
              "    <tr style=\"text-align: right;\">\n",
              "      <th></th>\n",
              "      <th>Unnamed: 0</th>\n",
              "      <th>id</th>\n",
              "      <th>Gender</th>\n",
              "      <th>Customer Type</th>\n",
              "      <th>Age</th>\n",
              "      <th>Type of Travel</th>\n",
              "      <th>Class</th>\n",
              "      <th>Flight Distance</th>\n",
              "      <th>Inflight wifi service</th>\n",
              "      <th>Departure/Arrival time convenient</th>\n",
              "      <th>Ease of Online booking</th>\n",
              "      <th>Gate location</th>\n",
              "      <th>Food and drink</th>\n",
              "      <th>Online boarding</th>\n",
              "      <th>Seat comfort</th>\n",
              "      <th>Inflight entertainment</th>\n",
              "      <th>On-board service</th>\n",
              "      <th>Leg room service</th>\n",
              "      <th>Baggage handling</th>\n",
              "      <th>Checkin service</th>\n",
              "      <th>Inflight service</th>\n",
              "      <th>Cleanliness</th>\n",
              "      <th>Departure Delay in Minutes</th>\n",
              "      <th>Arrival Delay in Minutes</th>\n",
              "      <th>satisfaction</th>\n",
              "    </tr>\n",
              "  </thead>\n",
              "  <tbody>\n",
              "    <tr>\n",
              "      <th>0</th>\n",
              "      <td>0</td>\n",
              "      <td>70172</td>\n",
              "      <td>1</td>\n",
              "      <td>0</td>\n",
              "      <td>13</td>\n",
              "      <td>1</td>\n",
              "      <td>2</td>\n",
              "      <td>460</td>\n",
              "      <td>3</td>\n",
              "      <td>4</td>\n",
              "      <td>3</td>\n",
              "      <td>1</td>\n",
              "      <td>5</td>\n",
              "      <td>3</td>\n",
              "      <td>5</td>\n",
              "      <td>5</td>\n",
              "      <td>4</td>\n",
              "      <td>3</td>\n",
              "      <td>4</td>\n",
              "      <td>4</td>\n",
              "      <td>5</td>\n",
              "      <td>5</td>\n",
              "      <td>25</td>\n",
              "      <td>18.0</td>\n",
              "      <td>0</td>\n",
              "    </tr>\n",
              "    <tr>\n",
              "      <th>1</th>\n",
              "      <td>1</td>\n",
              "      <td>5047</td>\n",
              "      <td>1</td>\n",
              "      <td>1</td>\n",
              "      <td>25</td>\n",
              "      <td>0</td>\n",
              "      <td>0</td>\n",
              "      <td>235</td>\n",
              "      <td>3</td>\n",
              "      <td>2</td>\n",
              "      <td>3</td>\n",
              "      <td>3</td>\n",
              "      <td>1</td>\n",
              "      <td>3</td>\n",
              "      <td>1</td>\n",
              "      <td>1</td>\n",
              "      <td>1</td>\n",
              "      <td>5</td>\n",
              "      <td>3</td>\n",
              "      <td>1</td>\n",
              "      <td>4</td>\n",
              "      <td>1</td>\n",
              "      <td>1</td>\n",
              "      <td>6.0</td>\n",
              "      <td>0</td>\n",
              "    </tr>\n",
              "    <tr>\n",
              "      <th>2</th>\n",
              "      <td>2</td>\n",
              "      <td>110028</td>\n",
              "      <td>0</td>\n",
              "      <td>0</td>\n",
              "      <td>26</td>\n",
              "      <td>0</td>\n",
              "      <td>0</td>\n",
              "      <td>1142</td>\n",
              "      <td>2</td>\n",
              "      <td>2</td>\n",
              "      <td>2</td>\n",
              "      <td>2</td>\n",
              "      <td>5</td>\n",
              "      <td>5</td>\n",
              "      <td>5</td>\n",
              "      <td>5</td>\n",
              "      <td>4</td>\n",
              "      <td>3</td>\n",
              "      <td>4</td>\n",
              "      <td>4</td>\n",
              "      <td>4</td>\n",
              "      <td>5</td>\n",
              "      <td>0</td>\n",
              "      <td>0.0</td>\n",
              "      <td>1</td>\n",
              "    </tr>\n",
              "    <tr>\n",
              "      <th>3</th>\n",
              "      <td>3</td>\n",
              "      <td>24026</td>\n",
              "      <td>0</td>\n",
              "      <td>0</td>\n",
              "      <td>25</td>\n",
              "      <td>0</td>\n",
              "      <td>0</td>\n",
              "      <td>562</td>\n",
              "      <td>2</td>\n",
              "      <td>5</td>\n",
              "      <td>5</td>\n",
              "      <td>5</td>\n",
              "      <td>2</td>\n",
              "      <td>2</td>\n",
              "      <td>2</td>\n",
              "      <td>2</td>\n",
              "      <td>2</td>\n",
              "      <td>5</td>\n",
              "      <td>3</td>\n",
              "      <td>1</td>\n",
              "      <td>4</td>\n",
              "      <td>2</td>\n",
              "      <td>11</td>\n",
              "      <td>9.0</td>\n",
              "      <td>0</td>\n",
              "    </tr>\n",
              "    <tr>\n",
              "      <th>4</th>\n",
              "      <td>4</td>\n",
              "      <td>119299</td>\n",
              "      <td>1</td>\n",
              "      <td>0</td>\n",
              "      <td>61</td>\n",
              "      <td>0</td>\n",
              "      <td>0</td>\n",
              "      <td>214</td>\n",
              "      <td>3</td>\n",
              "      <td>3</td>\n",
              "      <td>3</td>\n",
              "      <td>3</td>\n",
              "      <td>4</td>\n",
              "      <td>5</td>\n",
              "      <td>5</td>\n",
              "      <td>3</td>\n",
              "      <td>3</td>\n",
              "      <td>4</td>\n",
              "      <td>4</td>\n",
              "      <td>3</td>\n",
              "      <td>3</td>\n",
              "      <td>3</td>\n",
              "      <td>0</td>\n",
              "      <td>0.0</td>\n",
              "      <td>1</td>\n",
              "    </tr>\n",
              "  </tbody>\n",
              "</table>\n",
              "</div>\n",
              "      <button class=\"colab-df-convert\" onclick=\"convertToInteractive('df-ebe8c9b8-6e88-4240-9d82-0ddcfc9f097b')\"\n",
              "              title=\"Convert this dataframe to an interactive table.\"\n",
              "              style=\"display:none;\">\n",
              "        \n",
              "  <svg xmlns=\"http://www.w3.org/2000/svg\" height=\"24px\"viewBox=\"0 0 24 24\"\n",
              "       width=\"24px\">\n",
              "    <path d=\"M0 0h24v24H0V0z\" fill=\"none\"/>\n",
              "    <path d=\"M18.56 5.44l.94 2.06.94-2.06 2.06-.94-2.06-.94-.94-2.06-.94 2.06-2.06.94zm-11 1L8.5 8.5l.94-2.06 2.06-.94-2.06-.94L8.5 2.5l-.94 2.06-2.06.94zm10 10l.94 2.06.94-2.06 2.06-.94-2.06-.94-.94-2.06-.94 2.06-2.06.94z\"/><path d=\"M17.41 7.96l-1.37-1.37c-.4-.4-.92-.59-1.43-.59-.52 0-1.04.2-1.43.59L10.3 9.45l-7.72 7.72c-.78.78-.78 2.05 0 2.83L4 21.41c.39.39.9.59 1.41.59.51 0 1.02-.2 1.41-.59l7.78-7.78 2.81-2.81c.8-.78.8-2.07 0-2.86zM5.41 20L4 18.59l7.72-7.72 1.47 1.35L5.41 20z\"/>\n",
              "  </svg>\n",
              "      </button>\n",
              "      \n",
              "  <style>\n",
              "    .colab-df-container {\n",
              "      display:flex;\n",
              "      flex-wrap:wrap;\n",
              "      gap: 12px;\n",
              "    }\n",
              "\n",
              "    .colab-df-convert {\n",
              "      background-color: #E8F0FE;\n",
              "      border: none;\n",
              "      border-radius: 50%;\n",
              "      cursor: pointer;\n",
              "      display: none;\n",
              "      fill: #1967D2;\n",
              "      height: 32px;\n",
              "      padding: 0 0 0 0;\n",
              "      width: 32px;\n",
              "    }\n",
              "\n",
              "    .colab-df-convert:hover {\n",
              "      background-color: #E2EBFA;\n",
              "      box-shadow: 0px 1px 2px rgba(60, 64, 67, 0.3), 0px 1px 3px 1px rgba(60, 64, 67, 0.15);\n",
              "      fill: #174EA6;\n",
              "    }\n",
              "\n",
              "    [theme=dark] .colab-df-convert {\n",
              "      background-color: #3B4455;\n",
              "      fill: #D2E3FC;\n",
              "    }\n",
              "\n",
              "    [theme=dark] .colab-df-convert:hover {\n",
              "      background-color: #434B5C;\n",
              "      box-shadow: 0px 1px 3px 1px rgba(0, 0, 0, 0.15);\n",
              "      filter: drop-shadow(0px 1px 2px rgba(0, 0, 0, 0.3));\n",
              "      fill: #FFFFFF;\n",
              "    }\n",
              "  </style>\n",
              "\n",
              "      <script>\n",
              "        const buttonEl =\n",
              "          document.querySelector('#df-ebe8c9b8-6e88-4240-9d82-0ddcfc9f097b button.colab-df-convert');\n",
              "        buttonEl.style.display =\n",
              "          google.colab.kernel.accessAllowed ? 'block' : 'none';\n",
              "\n",
              "        async function convertToInteractive(key) {\n",
              "          const element = document.querySelector('#df-ebe8c9b8-6e88-4240-9d82-0ddcfc9f097b');\n",
              "          const dataTable =\n",
              "            await google.colab.kernel.invokeFunction('convertToInteractive',\n",
              "                                                     [key], {});\n",
              "          if (!dataTable) return;\n",
              "\n",
              "          const docLinkHtml = 'Like what you see? Visit the ' +\n",
              "            '<a target=\"_blank\" href=https://colab.research.google.com/notebooks/data_table.ipynb>data table notebook</a>'\n",
              "            + ' to learn more about interactive tables.';\n",
              "          element.innerHTML = '';\n",
              "          dataTable['output_type'] = 'display_data';\n",
              "          await google.colab.output.renderOutput(dataTable, element);\n",
              "          const docLink = document.createElement('div');\n",
              "          docLink.innerHTML = docLinkHtml;\n",
              "          element.appendChild(docLink);\n",
              "        }\n",
              "      </script>\n",
              "    </div>\n",
              "  </div>\n",
              "  "
            ]
          },
          "metadata": {},
          "execution_count": 15
        }
      ]
    },
    {
      "cell_type": "code",
      "source": [
        "data = data.drop(['Unnamed: 0' , 'id'] , axis=1)"
      ],
      "metadata": {
        "id": "UG-8aXYd1DyL"
      },
      "execution_count": null,
      "outputs": []
    },
    {
      "cell_type": "markdown",
      "source": [
        "**Handling the Outliers**\n",
        "\n",
        "The int_data type has 19 columns"
      ],
      "metadata": {
        "id": "j0DJE_eJ8okp"
      }
    },
    {
      "cell_type": "code",
      "source": [
        "int_data = int_data.drop(['Unnamed: 0','id'] , axis=1) ###droping this features which are not usefull\n",
        "len(int_data.columns)"
      ],
      "metadata": {
        "colab": {
          "base_uri": "https://localhost:8080/"
        },
        "id": "8y2llbR13D6P",
        "outputId": "5eb29fce-de06-4278-e749-17b8370c4e37"
      },
      "execution_count": null,
      "outputs": [
        {
          "output_type": "execute_result",
          "data": {
            "text/plain": [
              "17"
            ]
          },
          "metadata": {},
          "execution_count": 17
        }
      ]
    },
    {
      "cell_type": "code",
      "source": [
        "###plotting the boxplot for checking the outliers\n",
        "for i in int_data.columns:\n",
        "  plt.figure(figsize=(5,5))\n",
        "  plt.title(i)\n",
        "  sns.set_style(\"whitegrid\")\n",
        "  sns.boxplot(data = data[i])"
      ],
      "metadata": {
        "colab": {
          "base_uri": "https://localhost:8080/",
          "height": 1000
        },
        "id": "8a4hfJi89BVo",
        "outputId": "6fbff2cc-b707-4504-e8e4-ff4966791703"
      },
      "execution_count": null,
      "outputs": [
        {
          "output_type": "display_data",
          "data": {
            "text/plain": [
              "<Figure size 360x360 with 1 Axes>"
            ],
            "image/png": "[encoded data removed]"
          },
          "metadata": {
            "needs_background": "light"
          }
        },
        {
          "output_type": "display_data",
          "data": {
            "text/plain": [
              "<Figure size 360x360 with 1 Axes>"
            ],
            "image/png": "[encoded data removed]"
          },
          "metadata": {}
        },
        {
          "output_type": "display_data",
          "data": {
            "text/plain": [
              "<Figure size 360x360 with 1 Axes>"
            ],
            "image/png": "[encoded data removed]"
          },
          "metadata": {}
        },
        {
          "output_type": "display_data",
          "data": {
            "text/plain": [
              "<Figure size 360x360 with 1 Axes>"
            ],
            "image/png": "[encoded data removed]"
          },
          "metadata": {}
        },
        {
          "output_type": "display_data",
          "data": {
            "text/plain": [
              "<Figure size 360x360 with 1 Axes>"
            ],
            "image/png": "[encoded data removed]"
          },
          "metadata": {}
        },
        {
          "output_type": "display_data",
          "data": {
            "text/plain": [
              "<Figure size 360x360 with 1 Axes>"
            ],
            "image/png": "[encoded data removed]"
          },
          "metadata": {}
        },
        {
          "output_type": "display_data",
          "data": {
            "text/plain": [
              "<Figure size 360x360 with 1 Axes>"
            ],
            "image/png": "[encoded data removed]"
          },
          "metadata": {}
        },
        {
          "output_type": "display_data",
          "data": {
            "text/plain": [
              "<Figure size 360x360 with 1 Axes>"
            ],
            "image/png": "[encoded data removed]"
          },
          "metadata": {}
        },
        {
          "output_type": "display_data",
          "data": {
            "text/plain": [
              "<Figure size 360x360 with 1 Axes>"
            ],
            "image/png": "[encoded data removed]"
          },
          "metadata": {}
        },
        {
          "output_type": "display_data",
          "data": {
            "text/plain": [
              "<Figure size 360x360 with 1 Axes>"
            ],
            "image/png": "[encoded data removed]"
          },
          "metadata": {}
        },
        {
          "output_type": "display_data",
          "data": {
            "text/plain": [
              "<Figure size 360x360 with 1 Axes>"
            ],
            "image/png": "[encoded data removed]"
          },
          "metadata": {}
        },
        {
          "output_type": "display_data",
          "data": {
            "text/plain": [
              "<Figure size 360x360 with 1 Axes>"
            ],
            "image/png": "[encoded data removed]"
          },
          "metadata": {}
        },
        {
          "output_type": "display_data",
          "data": {
            "text/plain": [
              "<Figure size 360x360 with 1 Axes>"
            ],
            "image/png": "[encoded data removed]"
          },
          "metadata": {}
        },
        {
          "output_type": "display_data",
          "data": {
            "text/plain": [
              "<Figure size 360x360 with 1 Axes>"
            ],
            "image/png": "[encoded data removed]"
          },
          "metadata": {}
        },
        {
          "output_type": "display_data",
          "data": {
            "text/plain": [
              "<Figure size 360x360 with 1 Axes>"
            ],
            "image/png": "[encoded data removed]"
          },
          "metadata": {}
        },
        {
          "output_type": "display_data",
          "data": {
            "text/plain": [
              "<Figure size 360x360 with 1 Axes>"
            ],
            "image/png": "[encoded data removed]"
          },
          "metadata": {}
        },
        {
          "output_type": "display_data",
          "data": {
            "text/plain": [
              "<Figure size 360x360 with 1 Axes>"
            ],
            "image/png": "[encoded data removed]"
          },
          "metadata": {}
        }
      ]
    },
    {
      "cell_type": "markdown",
      "source": [
        "Observation ▶ The features Departure Delay in Minutes , Arrival Delay in Minutes , Flight Distance have the most outliers,"
      ],
      "metadata": {
        "id": "7hFvfLD2AQwL"
      }
    },
    {
      "cell_type": "markdown",
      "source": [
        "**Techniques for Checking the outliers**\n",
        "\n",
        "🦓 Z score"
      ],
      "metadata": {
        "id": "H-rlu56vFXm0"
      }
    },
    {
      "cell_type": "code",
      "source": [
        "### define a threshold value of 3 and mark the datapoints whose absolute value of Z-score is greater than the threshold as outliers\n",
        "def detect_outlier_zscore(data):    ##making a function with data as parameter\n",
        "  z_score_outliers = []    \n",
        "  threshold = 3                    ## creating a threeshold variable a 3\n",
        "  mean = np.mean(data)            ##taking mean of data\n",
        "  std = np.std(data)              ##taking standard deviation of data\n",
        "  for i in data:                   \n",
        "    z_score = (i-mean)/std         ## zscore of formula \n",
        "    if (np.abs(z_score)) > threshold:      ##absolute value of z score\n",
        "        z_score_outliers.append(i)\n",
        "  return z_score_outliers\n",
        "dep_delay_out = detect_outlier_zscore(data['Departure Delay in Minutes'])\n",
        "print('The total number of outliers from Z score are ',len(dep_delay_out))"
      ],
      "metadata": {
        "colab": {
          "base_uri": "https://localhost:8080/"
        },
        "id": "_1bVGjoX-kYV",
        "outputId": "1da4830b-1c59-4e7f-c0a2-e295e8cbbcb2"
      },
      "execution_count": null,
      "outputs": [
        {
          "output_type": "stream",
          "name": "stdout",
          "text": [
            "The total number of outliers from Z score are  2222\n"
          ]
        }
      ]
    },
    {
      "cell_type": "code",
      "source": [
        "ariv_delay_out = detect_outlier_zscore(data['Arrival Delay in Minutes'])\n",
        "print('The total number of outliers from Z score are ',len(ariv_delay_out))"
      ],
      "metadata": {
        "colab": {
          "base_uri": "https://localhost:8080/"
        },
        "id": "YIxNF68nINWO",
        "outputId": "49604934-f2a0-47b5-b66d-d9cda138a2d9"
      },
      "execution_count": null,
      "outputs": [
        {
          "output_type": "stream",
          "name": "stdout",
          "text": [
            "The total number of outliers from Z score are  2225\n"
          ]
        }
      ]
    },
    {
      "cell_type": "code",
      "source": [
        "flight_dis_out_z = detect_outlier_zscore(data['Flight Distance'])\n",
        "print('The total number of outliers from Z score are ',len(flight_dis_out_z))"
      ],
      "metadata": {
        "colab": {
          "base_uri": "https://localhost:8080/"
        },
        "id": "v-ZDnyqqJQjt",
        "outputId": "d6a1985a-5976-49cc-8710-692517387f86"
      },
      "execution_count": null,
      "outputs": [
        {
          "output_type": "stream",
          "name": "stdout",
          "text": [
            "The total number of outliers from Z score are  58\n"
          ]
        }
      ]
    },
    {
      "cell_type": "markdown",
      "source": [
        "⏹ IQR technique"
      ],
      "metadata": {
        "id": "6HPrKEBdJ_jN"
      }
    },
    {
      "cell_type": "code",
      "source": [
        "def detect_outliers_iqr(data):\n",
        "    iqr_outliers =[]\n",
        "    data = sorted(data)\n",
        "    q1 = np.percentile(data, 25)\n",
        "    q3 = np.percentile(data, 75)\n",
        "    IQR = q3-q1\n",
        "    lwr_bound = q1-(1.5*IQR)\n",
        "    upr_bound = q3+(1.5*IQR)\n",
        "    for i in data: \n",
        "        if (i<lwr_bound or i>upr_bound):\n",
        "            iqr_outliers.append(i)\n",
        "    return iqr_outliers\n",
        "outliers_dep_delay = detect_outliers_iqr(data['Departure Delay in Minutes'])\n",
        "print('The total number of outliers from IQR are ',len(outliers_dep_delay))"
      ],
      "metadata": {
        "colab": {
          "base_uri": "https://localhost:8080/"
        },
        "id": "8g1qPlKHJhra",
        "outputId": "dd4268e7-56f4-429d-daa6-af0e77ebc78d"
      },
      "execution_count": null,
      "outputs": [
        {
          "output_type": "stream",
          "name": "stdout",
          "text": [
            "The total number of outliers from IQR are  14529\n"
          ]
        }
      ]
    },
    {
      "cell_type": "code",
      "source": [
        "outliers_arival_delay = detect_outliers_iqr(data['Arrival Delay in Minutes'])\n",
        "print('The total number of outliers from IQR are ',len(outliers_arival_delay))"
      ],
      "metadata": {
        "colab": {
          "base_uri": "https://localhost:8080/"
        },
        "id": "ZLhxXaOQLd5M",
        "outputId": "2ead0375-d50c-4032-e18d-f56a220f1a98"
      },
      "execution_count": null,
      "outputs": [
        {
          "output_type": "stream",
          "name": "stdout",
          "text": [
            "The total number of outliers from IQR are  13954\n"
          ]
        }
      ]
    },
    {
      "cell_type": "code",
      "source": [
        "flight_dis_out = detect_outliers_iqr(data['Flight Distance'])\n",
        "print('The total number of outliers from IQR are ',len(flight_dis_out))"
      ],
      "metadata": {
        "colab": {
          "base_uri": "https://localhost:8080/"
        },
        "id": "BEIbJ9gnMjUi",
        "outputId": "34a22084-6393-42af-ca86-a76d0845a920"
      },
      "execution_count": null,
      "outputs": [
        {
          "output_type": "stream",
          "name": "stdout",
          "text": [
            "The total number of outliers from IQR are  2291\n"
          ]
        }
      ]
    },
    {
      "cell_type": "code",
      "source": [
        "df = data.copy()"
      ],
      "metadata": {
        "id": "9jq7f-B3gHSP"
      },
      "execution_count": null,
      "outputs": []
    },
    {
      "cell_type": "markdown",
      "source": [
        "Imputating the outliers with Median value\n",
        "\n",
        "Selecting the Z score technique for outliers detection as it is not robust to outliers.(I have found many outliers with IQR technique and dont want to use that list of outliers)"
      ],
      "metadata": {
        "id": "QrjZEAj_UvXq"
      }
    },
    {
      "cell_type": "code",
      "source": [
        "print(data['Arrival Delay in Minutes'].mean() , data['Flight Distance'].mean() , data['Departure Delay in Minutes'].mean())"
      ],
      "metadata": {
        "colab": {
          "base_uri": "https://localhost:8080/"
        },
        "id": "6skgo07Rk81C",
        "outputId": "cef5c2e0-9efa-49b7-e437-3da0cd69a648"
      },
      "execution_count": null,
      "outputs": [
        {
          "output_type": "stream",
          "name": "stdout",
          "text": [
            "15.133392362180475 1189.4483754234677 14.815618263012011\n"
          ]
        }
      ]
    },
    {
      "cell_type": "code",
      "source": [
        "def median_impute(feature , feature_outliers_list):\n",
        "  median = np.median(data[feature])\n",
        "  for i in feature_outliers_list:\n",
        "    data[feature] = np.where(data[feature]==i , median , data[feature])\n",
        "  print('Outliers are imputed')"
      ],
      "metadata": {
        "id": "AJe8CHW7jRpZ"
      },
      "execution_count": null,
      "outputs": []
    },
    {
      "cell_type": "code",
      "source": [
        "median_impute('Arrival Delay in Minutes' , ariv_delay_out)\n",
        "median_impute('Flight Distance' ,flight_dis_out_z)\n",
        "median_impute('Departure Delay in Minutes' , dep_delay_out)"
      ],
      "metadata": {
        "colab": {
          "base_uri": "https://localhost:8080/"
        },
        "id": "qJE1FqmZnFYp",
        "outputId": "8fbcdf89-3880-403a-9d72-13ced2b7381d"
      },
      "execution_count": null,
      "outputs": [
        {
          "output_type": "stream",
          "name": "stdout",
          "text": [
            "Outliers are imputed\n",
            "Outliers are imputed\n",
            "Outliers are imputed\n"
          ]
        }
      ]
    },
    {
      "cell_type": "code",
      "source": [
        "print(data['Arrival Delay in Minutes'].mean() , data['Flight Distance'].mean() , data['Departure Delay in Minutes'].mean())"
      ],
      "metadata": {
        "colab": {
          "base_uri": "https://localhost:8080/"
        },
        "id": "nD7486CyoM4q",
        "outputId": "116d13c6-adfb-44ae-f294-da38c240ca9f"
      },
      "execution_count": null,
      "outputs": [
        {
          "output_type": "stream",
          "name": "stdout",
          "text": [
            "10.664478749615029 1187.322374499538 10.410436556821681\n"
          ]
        }
      ]
    },
    {
      "cell_type": "markdown",
      "source": [
        "All the Outliers are imputed with median value."
      ],
      "metadata": {
        "id": "YtQPFrJvoVC_"
      }
    },
    {
      "cell_type": "markdown",
      "source": [
        "**Feature selection**"
      ],
      "metadata": {
        "id": "gnGOP1OLoeXo"
      }
    },
    {
      "cell_type": "code",
      "source": [
        "data.head()"
      ],
      "metadata": {
        "colab": {
          "base_uri": "https://localhost:8080/",
          "height": 322
        },
        "id": "3b7WuIlxoSmc",
        "outputId": "0c197545-f097-4264-f3da-b3a23b8d2889"
      },
      "execution_count": null,
      "outputs": [
        {
          "output_type": "execute_result",
          "data": {
            "text/plain": [
              "   Gender  Customer Type  Age  Type of Travel  Class  Flight Distance  \\\n",
              "0       1              0   13               1      2            460.0   \n",
              "1       1              1   25               0      0            235.0   \n",
              "2       0              0   26               0      0           1142.0   \n",
              "3       0              0   25               0      0            562.0   \n",
              "4       1              0   61               0      0            214.0   \n",
              "\n",
              "   Inflight wifi service  Departure/Arrival time convenient  \\\n",
              "0                      3                                  4   \n",
              "1                      3                                  2   \n",
              "2                      2                                  2   \n",
              "3                      2                                  5   \n",
              "4                      3                                  3   \n",
              "\n",
              "   Ease of Online booking  Gate location  Food and drink  Online boarding  \\\n",
              "0                       3              1               5                3   \n",
              "1                       3              3               1                3   \n",
              "2                       2              2               5                5   \n",
              "3                       5              5               2                2   \n",
              "4                       3              3               4                5   \n",
              "\n",
              "   Seat comfort  Inflight entertainment  On-board service  Leg room service  \\\n",
              "0             5                       5                 4                 3   \n",
              "1             1                       1                 1                 5   \n",
              "2             5                       5                 4                 3   \n",
              "3             2                       2                 2                 5   \n",
              "4             5                       3                 3                 4   \n",
              "\n",
              "   Baggage handling  Checkin service  Inflight service  Cleanliness  \\\n",
              "0                 4                4                 5            5   \n",
              "1                 3                1                 4            1   \n",
              "2                 4                4                 4            5   \n",
              "3                 3                1                 4            2   \n",
              "4                 4                3                 3            3   \n",
              "\n",
              "   Departure Delay in Minutes  Arrival Delay in Minutes  satisfaction  \n",
              "0                        25.0                      18.0             0  \n",
              "1                         1.0                       6.0             0  \n",
              "2                         0.0                       0.0             1  \n",
              "3                        11.0                       9.0             0  \n",
              "4                         0.0                       0.0             1  "
            ],
            "text/html": [
              "\n",
              "  <div id=\"df-1ca59408-dd5c-46d8-ac66-3c2934a12672\">\n",
              "    <div class=\"colab-df-container\">\n",
              "      <div>\n",
              "<style scoped>\n",
              "    .dataframe tbody tr th:only-of-type {\n",
              "        vertical-align: middle;\n",
              "    }\n",
              "\n",
              "    .dataframe tbody tr th {\n",
              "        vertical-align: top;\n",
              "    }\n",
              "\n",
              "    .dataframe thead th {\n",
              "        text-align: right;\n",
              "    }\n",
              "</style>\n",
              "<table border=\"1\" class=\"dataframe\">\n",
              "  <thead>\n",
              "    <tr style=\"text-align: right;\">\n",
              "      <th></th>\n",
              "      <th>Gender</th>\n",
              "      <th>Customer Type</th>\n",
              "      <th>Age</th>\n",
              "      <th>Type of Travel</th>\n",
              "      <th>Class</th>\n",
              "      <th>Flight Distance</th>\n",
              "      <th>Inflight wifi service</th>\n",
              "      <th>Departure/Arrival time convenient</th>\n",
              "      <th>Ease of Online booking</th>\n",
              "      <th>Gate location</th>\n",
              "      <th>Food and drink</th>\n",
              "      <th>Online boarding</th>\n",
              "      <th>Seat comfort</th>\n",
              "      <th>Inflight entertainment</th>\n",
              "      <th>On-board service</th>\n",
              "      <th>Leg room service</th>\n",
              "      <th>Baggage handling</th>\n",
              "      <th>Checkin service</th>\n",
              "      <th>Inflight service</th>\n",
              "      <th>Cleanliness</th>\n",
              "      <th>Departure Delay in Minutes</th>\n",
              "      <th>Arrival Delay in Minutes</th>\n",
              "      <th>satisfaction</th>\n",
              "    </tr>\n",
              "  </thead>\n",
              "  <tbody>\n",
              "    <tr>\n",
              "      <th>0</th>\n",
              "      <td>1</td>\n",
              "      <td>0</td>\n",
              "      <td>13</td>\n",
              "      <td>1</td>\n",
              "      <td>2</td>\n",
              "      <td>460.0</td>\n",
              "      <td>3</td>\n",
              "      <td>4</td>\n",
              "      <td>3</td>\n",
              "      <td>1</td>\n",
              "      <td>5</td>\n",
              "      <td>3</td>\n",
              "      <td>5</td>\n",
              "      <td>5</td>\n",
              "      <td>4</td>\n",
              "      <td>3</td>\n",
              "      <td>4</td>\n",
              "      <td>4</td>\n",
              "      <td>5</td>\n",
              "      <td>5</td>\n",
              "      <td>25.0</td>\n",
              "      <td>18.0</td>\n",
              "      <td>0</td>\n",
              "    </tr>\n",
              "    <tr>\n",
              "      <th>1</th>\n",
              "      <td>1</td>\n",
              "      <td>1</td>\n",
              "      <td>25</td>\n",
              "      <td>0</td>\n",
              "      <td>0</td>\n",
              "      <td>235.0</td>\n",
              "      <td>3</td>\n",
              "      <td>2</td>\n",
              "      <td>3</td>\n",
              "      <td>3</td>\n",
              "      <td>1</td>\n",
              "      <td>3</td>\n",
              "      <td>1</td>\n",
              "      <td>1</td>\n",
              "      <td>1</td>\n",
              "      <td>5</td>\n",
              "      <td>3</td>\n",
              "      <td>1</td>\n",
              "      <td>4</td>\n",
              "      <td>1</td>\n",
              "      <td>1.0</td>\n",
              "      <td>6.0</td>\n",
              "      <td>0</td>\n",
              "    </tr>\n",
              "    <tr>\n",
              "      <th>2</th>\n",
              "      <td>0</td>\n",
              "      <td>0</td>\n",
              "      <td>26</td>\n",
              "      <td>0</td>\n",
              "      <td>0</td>\n",
              "      <td>1142.0</td>\n",
              "      <td>2</td>\n",
              "      <td>2</td>\n",
              "      <td>2</td>\n",
              "      <td>2</td>\n",
              "      <td>5</td>\n",
              "      <td>5</td>\n",
              "      <td>5</td>\n",
              "      <td>5</td>\n",
              "      <td>4</td>\n",
              "      <td>3</td>\n",
              "      <td>4</td>\n",
              "      <td>4</td>\n",
              "      <td>4</td>\n",
              "      <td>5</td>\n",
              "      <td>0.0</td>\n",
              "      <td>0.0</td>\n",
              "      <td>1</td>\n",
              "    </tr>\n",
              "    <tr>\n",
              "      <th>3</th>\n",
              "      <td>0</td>\n",
              "      <td>0</td>\n",
              "      <td>25</td>\n",
              "      <td>0</td>\n",
              "      <td>0</td>\n",
              "      <td>562.0</td>\n",
              "      <td>2</td>\n",
              "      <td>5</td>\n",
              "      <td>5</td>\n",
              "      <td>5</td>\n",
              "      <td>2</td>\n",
              "      <td>2</td>\n",
              "      <td>2</td>\n",
              "      <td>2</td>\n",
              "      <td>2</td>\n",
              "      <td>5</td>\n",
              "      <td>3</td>\n",
              "      <td>1</td>\n",
              "      <td>4</td>\n",
              "      <td>2</td>\n",
              "      <td>11.0</td>\n",
              "      <td>9.0</td>\n",
              "      <td>0</td>\n",
              "    </tr>\n",
              "    <tr>\n",
              "      <th>4</th>\n",
              "      <td>1</td>\n",
              "      <td>0</td>\n",
              "      <td>61</td>\n",
              "      <td>0</td>\n",
              "      <td>0</td>\n",
              "      <td>214.0</td>\n",
              "      <td>3</td>\n",
              "      <td>3</td>\n",
              "      <td>3</td>\n",
              "      <td>3</td>\n",
              "      <td>4</td>\n",
              "      <td>5</td>\n",
              "      <td>5</td>\n",
              "      <td>3</td>\n",
              "      <td>3</td>\n",
              "      <td>4</td>\n",
              "      <td>4</td>\n",
              "      <td>3</td>\n",
              "      <td>3</td>\n",
              "      <td>3</td>\n",
              "      <td>0.0</td>\n",
              "      <td>0.0</td>\n",
              "      <td>1</td>\n",
              "    </tr>\n",
              "  </tbody>\n",
              "</table>\n",
              "</div>\n",
              "      <button class=\"colab-df-convert\" onclick=\"convertToInteractive('df-1ca59408-dd5c-46d8-ac66-3c2934a12672')\"\n",
              "              title=\"Convert this dataframe to an interactive table.\"\n",
              "              style=\"display:none;\">\n",
              "        \n",
              "  <svg xmlns=\"http://www.w3.org/2000/svg\" height=\"24px\"viewBox=\"0 0 24 24\"\n",
              "       width=\"24px\">\n",
              "    <path d=\"M0 0h24v24H0V0z\" fill=\"none\"/>\n",
              "    <path d=\"M18.56 5.44l.94 2.06.94-2.06 2.06-.94-2.06-.94-.94-2.06-.94 2.06-2.06.94zm-11 1L8.5 8.5l.94-2.06 2.06-.94-2.06-.94L8.5 2.5l-.94 2.06-2.06.94zm10 10l.94 2.06.94-2.06 2.06-.94-2.06-.94-.94-2.06-.94 2.06-2.06.94z\"/><path d=\"M17.41 7.96l-1.37-1.37c-.4-.4-.92-.59-1.43-.59-.52 0-1.04.2-1.43.59L10.3 9.45l-7.72 7.72c-.78.78-.78 2.05 0 2.83L4 21.41c.39.39.9.59 1.41.59.51 0 1.02-.2 1.41-.59l7.78-7.78 2.81-2.81c.8-.78.8-2.07 0-2.86zM5.41 20L4 18.59l7.72-7.72 1.47 1.35L5.41 20z\"/>\n",
              "  </svg>\n",
              "      </button>\n",
              "      \n",
              "  <style>\n",
              "    .colab-df-container {\n",
              "      display:flex;\n",
              "      flex-wrap:wrap;\n",
              "      gap: 12px;\n",
              "    }\n",
              "\n",
              "    .colab-df-convert {\n",
              "      background-color: #E8F0FE;\n",
              "      border: none;\n",
              "      border-radius: 50%;\n",
              "      cursor: pointer;\n",
              "      display: none;\n",
              "      fill: #1967D2;\n",
              "      height: 32px;\n",
              "      padding: 0 0 0 0;\n",
              "      width: 32px;\n",
              "    }\n",
              "\n",
              "    .colab-df-convert:hover {\n",
              "      background-color: #E2EBFA;\n",
              "      box-shadow: 0px 1px 2px rgba(60, 64, 67, 0.3), 0px 1px 3px 1px rgba(60, 64, 67, 0.15);\n",
              "      fill: #174EA6;\n",
              "    }\n",
              "\n",
              "    [theme=dark] .colab-df-convert {\n",
              "      background-color: #3B4455;\n",
              "      fill: #D2E3FC;\n",
              "    }\n",
              "\n",
              "    [theme=dark] .colab-df-convert:hover {\n",
              "      background-color: #434B5C;\n",
              "      box-shadow: 0px 1px 3px 1px rgba(0, 0, 0, 0.15);\n",
              "      filter: drop-shadow(0px 1px 2px rgba(0, 0, 0, 0.3));\n",
              "      fill: #FFFFFF;\n",
              "    }\n",
              "  </style>\n",
              "\n",
              "      <script>\n",
              "        const buttonEl =\n",
              "          document.querySelector('#df-1ca59408-dd5c-46d8-ac66-3c2934a12672 button.colab-df-convert');\n",
              "        buttonEl.style.display =\n",
              "          google.colab.kernel.accessAllowed ? 'block' : 'none';\n",
              "\n",
              "        async function convertToInteractive(key) {\n",
              "          const element = document.querySelector('#df-1ca59408-dd5c-46d8-ac66-3c2934a12672');\n",
              "          const dataTable =\n",
              "            await google.colab.kernel.invokeFunction('convertToInteractive',\n",
              "                                                     [key], {});\n",
              "          if (!dataTable) return;\n",
              "\n",
              "          const docLinkHtml = 'Like what you see? Visit the ' +\n",
              "            '<a target=\"_blank\" href=https://colab.research.google.com/notebooks/data_table.ipynb>data table notebook</a>'\n",
              "            + ' to learn more about interactive tables.';\n",
              "          element.innerHTML = '';\n",
              "          dataTable['output_type'] = 'display_data';\n",
              "          await google.colab.output.renderOutput(dataTable, element);\n",
              "          const docLink = document.createElement('div');\n",
              "          docLink.innerHTML = docLinkHtml;\n",
              "          element.appendChild(docLink);\n",
              "        }\n",
              "      </script>\n",
              "    </div>\n",
              "  </div>\n",
              "  "
            ]
          },
          "metadata": {},
          "execution_count": 30
        }
      ]
    },
    {
      "cell_type": "code",
      "source": [
        "data.shape"
      ],
      "metadata": {
        "colab": {
          "base_uri": "https://localhost:8080/"
        },
        "id": "_WuQN25VpQMS",
        "outputId": "96c70c99-f967-43af-86af-89c146d70147"
      },
      "execution_count": null,
      "outputs": [
        {
          "output_type": "execute_result",
          "data": {
            "text/plain": [
              "(103904, 23)"
            ]
          },
          "metadata": {},
          "execution_count": 31
        }
      ]
    },
    {
      "cell_type": "code",
      "source": [
        "categorical_features = [x for x in data.columns if len(data[x].unique()) <=6]\n",
        "continous_features = [x for x in data.columns if len(data[x].unique())>10]"
      ],
      "metadata": {
        "id": "BbDbVwk5qrr2"
      },
      "execution_count": null,
      "outputs": []
    },
    {
      "cell_type": "markdown",
      "source": [
        "There are *18* categorical features and *4* continous features and 1 dependent feature.Total **23** features\n",
        "\n",
        "We can use feature selection techniques to select the features."
      ],
      "metadata": {
        "id": "DKg5u4T0xWF7"
      }
    },
    {
      "cell_type": "markdown",
      "source": [
        "Checking the Correlation of features."
      ],
      "metadata": {
        "id": "tA_sQAZ90weE"
      }
    },
    {
      "cell_type": "code",
      "source": [
        "corr = data.corr()"
      ],
      "metadata": {
        "id": "zE4eIe-LszOs"
      },
      "execution_count": null,
      "outputs": []
    },
    {
      "cell_type": "code",
      "source": [
        "plt.figure(figsize=(10,10))\n",
        "sns.heatmap(corr , cmap='terrain')"
      ],
      "metadata": {
        "id": "BUth8PLktSJo",
        "colab": {
          "base_uri": "https://localhost:8080/",
          "height": 774
        },
        "outputId": "dffa3188-eb6a-4b7f-98e6-d6ede61cf24a"
      },
      "execution_count": null,
      "outputs": [
        {
          "output_type": "execute_result",
          "data": {
            "text/plain": [
              "<AxesSubplot:>"
            ]
          },
          "metadata": {},
          "execution_count": 34
        },
        {
          "output_type": "display_data",
          "data": {
            "text/plain": [
              "<Figure size 720x720 with 2 Axes>"
            ],
            "image/png": "[encoded data removed]"
          },
          "metadata": {}
        }
      ]
    },
    {
      "cell_type": "markdown",
      "source": [
        " **By the above correlation matrix we can see the relationship between features.**"
      ],
      "metadata": {
        "id": "nLdn75l417Ah"
      }
    },
    {
      "cell_type": "markdown",
      "source": [
        "### **Chi square test** for categorical feature."
      ],
      "metadata": {
        "id": "Ea_bZeEtgEtG"
      }
    },
    {
      "cell_type": "code",
      "source": [
        "from sklearn.feature_selection import SelectKBest\n",
        "from sklearn.feature_selection import chi2\n",
        "X = data[categorical_features]\n",
        "y = data['satisfaction']"
      ],
      "metadata": {
        "id": "lqNSxj0VgTj_"
      },
      "execution_count": null,
      "outputs": []
    },
    {
      "cell_type": "code",
      "source": [
        "f_p_values = chi2(X ,y)   ## chi2 returns two values Fscore and P values."
      ],
      "metadata": {
        "id": "u-jBYKv1h7Fm"
      },
      "execution_count": null,
      "outputs": []
    },
    {
      "cell_type": "code",
      "source": [
        "f_p_values   ###highest the Fscore more important the feature and lower the p value more important is the feature. "
      ],
      "metadata": {
        "colab": {
          "base_uri": "https://localhost:8080/"
        },
        "id": "JuzwkZf8krXw",
        "outputId": "55cc20bf-1c50-481f-f534-95b835b0a6a6"
      },
      "execution_count": null,
      "outputs": [
        {
          "output_type": "execute_result",
          "data": {
            "text/plain": [
              "(array([7.86239874e+00, 2.98997606e+03, 1.44457486e+04, 1.36068763e+04,\n",
              "        5.42233398e+03, 2.10260147e+02, 2.17452495e+03, 2.65017285e-02,\n",
              "        2.52791323e+03, 1.47619572e+04, 6.41926032e+03, 8.71118195e+03,\n",
              "        5.29933735e+03, 5.26197662e+03, 2.44881538e+03, 2.80844476e+03,\n",
              "        2.36294675e+03, 5.07137639e+03, 5.88790000e+04]),\n",
              " array([5.04733869e-03, 0.00000000e+00, 0.00000000e+00, 0.00000000e+00,\n",
              "        0.00000000e+00, 1.20533919e-47, 0.00000000e+00, 8.70681015e-01,\n",
              "        0.00000000e+00, 0.00000000e+00, 0.00000000e+00, 0.00000000e+00,\n",
              "        0.00000000e+00, 0.00000000e+00, 0.00000000e+00, 0.00000000e+00,\n",
              "        0.00000000e+00, 0.00000000e+00, 0.00000000e+00]))"
            ]
          },
          "metadata": {},
          "execution_count": 52
        }
      ]
    },
    {
      "cell_type": "code",
      "source": [
        "f_score = pd.Series(f_p_values[0])  ##creating a pandas series for p_values\n",
        "f_score.index = X.columns   ##seting index equal to X.collumns\n",
        "f_score  "
      ],
      "metadata": {
        "colab": {
          "base_uri": "https://localhost:8080/"
        },
        "id": "sNaCkicCktY9",
        "outputId": "436b18bd-23c6-45bf-c737-bb2aa2ca99bb"
      },
      "execution_count": null,
      "outputs": [
        {
          "output_type": "execute_result",
          "data": {
            "text/plain": [
              "Gender                                   7.862399\n",
              "Customer Type                         2989.976064\n",
              "Type of Travel                       14445.748601\n",
              "Class                                13606.876336\n",
              "Inflight wifi service                 5422.333982\n",
              "Departure/Arrival time convenient      210.260147\n",
              "Ease of Online booking                2174.524945\n",
              "Gate location                            0.026502\n",
              "Food and drink                        2527.913233\n",
              "Online boarding                      14761.957221\n",
              "Seat comfort                          6419.260324\n",
              "Inflight entertainment                8711.181948\n",
              "On-board service                      5299.337352\n",
              "Leg room service                      5261.976617\n",
              "Baggage handling                      2448.815383\n",
              "Checkin service                       2808.444759\n",
              "Inflight service                      2362.946754\n",
              "Cleanliness                           5071.376389\n",
              "satisfaction                         58879.000000\n",
              "dtype: float64"
            ]
          },
          "metadata": {},
          "execution_count": 53
        }
      ]
    },
    {
      "cell_type": "code",
      "source": [
        "chi_square_features = f_score.sort_index(ascending=True)       ###sorting the p values in ascending order\n",
        "chi_square_features"
      ],
      "metadata": {
        "colab": {
          "base_uri": "https://localhost:8080/"
        },
        "id": "ZypY_7TUlZJ2",
        "outputId": "01af87d8-336e-4f78-8baa-329d5082a2ab"
      },
      "execution_count": null,
      "outputs": [
        {
          "output_type": "execute_result",
          "data": {
            "text/plain": [
              "Baggage handling                      2448.815383\n",
              "Checkin service                       2808.444759\n",
              "Class                                13606.876336\n",
              "Cleanliness                           5071.376389\n",
              "Customer Type                         2989.976064\n",
              "Departure/Arrival time convenient      210.260147\n",
              "Ease of Online booking                2174.524945\n",
              "Food and drink                        2527.913233\n",
              "Gate location                            0.026502\n",
              "Gender                                   7.862399\n",
              "Inflight entertainment                8711.181948\n",
              "Inflight service                      2362.946754\n",
              "Inflight wifi service                 5422.333982\n",
              "Leg room service                      5261.976617\n",
              "On-board service                      5299.337352\n",
              "Online boarding                      14761.957221\n",
              "Seat comfort                          6419.260324\n",
              "Type of Travel                       14445.748601\n",
              "satisfaction                         58879.000000\n",
              "dtype: float64"
            ]
          },
          "metadata": {},
          "execution_count": 58
        }
      ]
    },
    {
      "cell_type": "markdown",
      "source": [
        "We can select the top 10 features from the above list of feature."
      ],
      "metadata": {
        "id": "3-AI499HpMkE"
      }
    },
    {
      "cell_type": "markdown",
      "source": [
        "Information gain/Mutual Information for feature selection"
      ],
      "metadata": {
        "id": "QZhPg3hDpDBR"
      }
    },
    {
      "cell_type": "code",
      "source": [
        "X = data.drop('satisfaction' , axis=1)\n",
        "y = data['satisfaction']\n",
        "from sklearn.feature_selection import mutual_info_regression\n",
        "mutual_info = mutual_info_regression(X,y)  "
      ],
      "metadata": {
        "id": "Ig8JBi8xl-S1"
      },
      "execution_count": null,
      "outputs": []
    },
    {
      "cell_type": "code",
      "source": [
        "mutual_info  ###higer the mutual info more important is the feature"
      ],
      "metadata": {
        "colab": {
          "base_uri": "https://localhost:8080/"
        },
        "id": "mvNe2Z1-pCwK",
        "outputId": "3137453a-2446-4fca-cf1a-d5f487892ed8"
      },
      "execution_count": null,
      "outputs": [
        {
          "output_type": "execute_result",
          "data": {
            "text/plain": [
              "array([0.        , 0.01314568, 0.04574319, 0.11350415, 0.13218908,\n",
              "       0.06378439, 0.1610883 , 0.00168996, 0.05437733, 0.01195238,\n",
              "       0.02777726, 0.21631892, 0.07727209, 0.09179663, 0.05980995,\n",
              "       0.06470882, 0.04217981, 0.03433133, 0.04694109, 0.05834602,\n",
              "       0.00055377, 0.00743939])"
            ]
          },
          "metadata": {},
          "execution_count": 41
        }
      ]
    },
    {
      "cell_type": "code",
      "source": [
        "mutual_info = pd.Series(mutual_info)\n",
        "mutual_info.index = X.columns\n",
        "mutual_information_features = mutual_info.sort_values(ascending=False)"
      ],
      "metadata": {
        "id": "_Be4si_3rgrg"
      },
      "execution_count": null,
      "outputs": []
    },
    {
      "cell_type": "code",
      "source": [
        "df_info = pd.DataFrame(mutual_information_features)\n",
        "df_info['index'] = df_info.index\n",
        "df_info.reset_index(level=0 , inplace=True)"
      ],
      "metadata": {
        "id": "D_fg6Fc_toyR"
      },
      "execution_count": null,
      "outputs": []
    },
    {
      "cell_type": "code",
      "source": [
        "df_info"
      ],
      "metadata": {
        "colab": {
          "base_uri": "https://localhost:8080/",
          "height": 739
        },
        "id": "NJN494Fj0DM4",
        "outputId": "514b7f25-1979-4165-c03a-42a4861c9f49"
      },
      "execution_count": null,
      "outputs": [
        {
          "output_type": "execute_result",
          "data": {
            "text/plain": [
              "                              level_0         0  \\\n",
              "0                     Online boarding  0.216319   \n",
              "1               Inflight wifi service  0.161088   \n",
              "2                               Class  0.132189   \n",
              "3                      Type of Travel  0.113504   \n",
              "4              Inflight entertainment  0.091797   \n",
              "5                        Seat comfort  0.077272   \n",
              "6                    Leg room service  0.064709   \n",
              "7                     Flight Distance  0.063784   \n",
              "8                    On-board service  0.059810   \n",
              "9                         Cleanliness  0.058346   \n",
              "10             Ease of Online booking  0.054377   \n",
              "11                   Inflight service  0.046941   \n",
              "12                                Age  0.045743   \n",
              "13                   Baggage handling  0.042180   \n",
              "14                    Checkin service  0.034331   \n",
              "15                     Food and drink  0.027777   \n",
              "16                      Customer Type  0.013146   \n",
              "17                      Gate location  0.011952   \n",
              "18           Arrival Delay in Minutes  0.007439   \n",
              "19  Departure/Arrival time convenient  0.001690   \n",
              "20         Departure Delay in Minutes  0.000554   \n",
              "21                             Gender  0.000000   \n",
              "\n",
              "                                index  \n",
              "0                     Online boarding  \n",
              "1               Inflight wifi service  \n",
              "2                               Class  \n",
              "3                      Type of Travel  \n",
              "4              Inflight entertainment  \n",
              "5                        Seat comfort  \n",
              "6                    Leg room service  \n",
              "7                     Flight Distance  \n",
              "8                    On-board service  \n",
              "9                         Cleanliness  \n",
              "10             Ease of Online booking  \n",
              "11                   Inflight service  \n",
              "12                                Age  \n",
              "13                   Baggage handling  \n",
              "14                    Checkin service  \n",
              "15                     Food and drink  \n",
              "16                      Customer Type  \n",
              "17                      Gate location  \n",
              "18           Arrival Delay in Minutes  \n",
              "19  Departure/Arrival time convenient  \n",
              "20         Departure Delay in Minutes  \n",
              "21                             Gender  "
            ],
            "text/html": [
              "\n",
              "  <div id=\"df-92aaa30b-60b1-4adf-a51b-c551df53e091\">\n",
              "    <div class=\"colab-df-container\">\n",
              "      <div>\n",
              "<style scoped>\n",
              "    .dataframe tbody tr th:only-of-type {\n",
              "        vertical-align: middle;\n",
              "    }\n",
              "\n",
              "    .dataframe tbody tr th {\n",
              "        vertical-align: top;\n",
              "    }\n",
              "\n",
              "    .dataframe thead th {\n",
              "        text-align: right;\n",
              "    }\n",
              "</style>\n",
              "<table border=\"1\" class=\"dataframe\">\n",
              "  <thead>\n",
              "    <tr style=\"text-align: right;\">\n",
              "      <th></th>\n",
              "      <th>level_0</th>\n",
              "      <th>0</th>\n",
              "      <th>index</th>\n",
              "    </tr>\n",
              "  </thead>\n",
              "  <tbody>\n",
              "    <tr>\n",
              "      <th>0</th>\n",
              "      <td>Online boarding</td>\n",
              "      <td>0.216319</td>\n",
              "      <td>Online boarding</td>\n",
              "    </tr>\n",
              "    <tr>\n",
              "      <th>1</th>\n",
              "      <td>Inflight wifi service</td>\n",
              "      <td>0.161088</td>\n",
              "      <td>Inflight wifi service</td>\n",
              "    </tr>\n",
              "    <tr>\n",
              "      <th>2</th>\n",
              "      <td>Class</td>\n",
              "      <td>0.132189</td>\n",
              "      <td>Class</td>\n",
              "    </tr>\n",
              "    <tr>\n",
              "      <th>3</th>\n",
              "      <td>Type of Travel</td>\n",
              "      <td>0.113504</td>\n",
              "      <td>Type of Travel</td>\n",
              "    </tr>\n",
              "    <tr>\n",
              "      <th>4</th>\n",
              "      <td>Inflight entertainment</td>\n",
              "      <td>0.091797</td>\n",
              "      <td>Inflight entertainment</td>\n",
              "    </tr>\n",
              "    <tr>\n",
              "      <th>5</th>\n",
              "      <td>Seat comfort</td>\n",
              "      <td>0.077272</td>\n",
              "      <td>Seat comfort</td>\n",
              "    </tr>\n",
              "    <tr>\n",
              "      <th>6</th>\n",
              "      <td>Leg room service</td>\n",
              "      <td>0.064709</td>\n",
              "      <td>Leg room service</td>\n",
              "    </tr>\n",
              "    <tr>\n",
              "      <th>7</th>\n",
              "      <td>Flight Distance</td>\n",
              "      <td>0.063784</td>\n",
              "      <td>Flight Distance</td>\n",
              "    </tr>\n",
              "    <tr>\n",
              "      <th>8</th>\n",
              "      <td>On-board service</td>\n",
              "      <td>0.059810</td>\n",
              "      <td>On-board service</td>\n",
              "    </tr>\n",
              "    <tr>\n",
              "      <th>9</th>\n",
              "      <td>Cleanliness</td>\n",
              "      <td>0.058346</td>\n",
              "      <td>Cleanliness</td>\n",
              "    </tr>\n",
              "    <tr>\n",
              "      <th>10</th>\n",
              "      <td>Ease of Online booking</td>\n",
              "      <td>0.054377</td>\n",
              "      <td>Ease of Online booking</td>\n",
              "    </tr>\n",
              "    <tr>\n",
              "      <th>11</th>\n",
              "      <td>Inflight service</td>\n",
              "      <td>0.046941</td>\n",
              "      <td>Inflight service</td>\n",
              "    </tr>\n",
              "    <tr>\n",
              "      <th>12</th>\n",
              "      <td>Age</td>\n",
              "      <td>0.045743</td>\n",
              "      <td>Age</td>\n",
              "    </tr>\n",
              "    <tr>\n",
              "      <th>13</th>\n",
              "      <td>Baggage handling</td>\n",
              "      <td>0.042180</td>\n",
              "      <td>Baggage handling</td>\n",
              "    </tr>\n",
              "    <tr>\n",
              "      <th>14</th>\n",
              "      <td>Checkin service</td>\n",
              "      <td>0.034331</td>\n",
              "      <td>Checkin service</td>\n",
              "    </tr>\n",
              "    <tr>\n",
              "      <th>15</th>\n",
              "      <td>Food and drink</td>\n",
              "      <td>0.027777</td>\n",
              "      <td>Food and drink</td>\n",
              "    </tr>\n",
              "    <tr>\n",
              "      <th>16</th>\n",
              "      <td>Customer Type</td>\n",
              "      <td>0.013146</td>\n",
              "      <td>Customer Type</td>\n",
              "    </tr>\n",
              "    <tr>\n",
              "      <th>17</th>\n",
              "      <td>Gate location</td>\n",
              "      <td>0.011952</td>\n",
              "      <td>Gate location</td>\n",
              "    </tr>\n",
              "    <tr>\n",
              "      <th>18</th>\n",
              "      <td>Arrival Delay in Minutes</td>\n",
              "      <td>0.007439</td>\n",
              "      <td>Arrival Delay in Minutes</td>\n",
              "    </tr>\n",
              "    <tr>\n",
              "      <th>19</th>\n",
              "      <td>Departure/Arrival time convenient</td>\n",
              "      <td>0.001690</td>\n",
              "      <td>Departure/Arrival time convenient</td>\n",
              "    </tr>\n",
              "    <tr>\n",
              "      <th>20</th>\n",
              "      <td>Departure Delay in Minutes</td>\n",
              "      <td>0.000554</td>\n",
              "      <td>Departure Delay in Minutes</td>\n",
              "    </tr>\n",
              "    <tr>\n",
              "      <th>21</th>\n",
              "      <td>Gender</td>\n",
              "      <td>0.000000</td>\n",
              "      <td>Gender</td>\n",
              "    </tr>\n",
              "  </tbody>\n",
              "</table>\n",
              "</div>\n",
              "      <button class=\"colab-df-convert\" onclick=\"convertToInteractive('df-92aaa30b-60b1-4adf-a51b-c551df53e091')\"\n",
              "              title=\"Convert this dataframe to an interactive table.\"\n",
              "              style=\"display:none;\">\n",
              "        \n",
              "  <svg xmlns=\"http://www.w3.org/2000/svg\" height=\"24px\"viewBox=\"0 0 24 24\"\n",
              "       width=\"24px\">\n",
              "    <path d=\"M0 0h24v24H0V0z\" fill=\"none\"/>\n",
              "    <path d=\"M18.56 5.44l.94 2.06.94-2.06 2.06-.94-2.06-.94-.94-2.06-.94 2.06-2.06.94zm-11 1L8.5 8.5l.94-2.06 2.06-.94-2.06-.94L8.5 2.5l-.94 2.06-2.06.94zm10 10l.94 2.06.94-2.06 2.06-.94-2.06-.94-.94-2.06-.94 2.06-2.06.94z\"/><path d=\"M17.41 7.96l-1.37-1.37c-.4-.4-.92-.59-1.43-.59-.52 0-1.04.2-1.43.59L10.3 9.45l-7.72 7.72c-.78.78-.78 2.05 0 2.83L4 21.41c.39.39.9.59 1.41.59.51 0 1.02-.2 1.41-.59l7.78-7.78 2.81-2.81c.8-.78.8-2.07 0-2.86zM5.41 20L4 18.59l7.72-7.72 1.47 1.35L5.41 20z\"/>\n",
              "  </svg>\n",
              "      </button>\n",
              "      \n",
              "  <style>\n",
              "    .colab-df-container {\n",
              "      display:flex;\n",
              "      flex-wrap:wrap;\n",
              "      gap: 12px;\n",
              "    }\n",
              "\n",
              "    .colab-df-convert {\n",
              "      background-color: #E8F0FE;\n",
              "      border: none;\n",
              "      border-radius: 50%;\n",
              "      cursor: pointer;\n",
              "      display: none;\n",
              "      fill: #1967D2;\n",
              "      height: 32px;\n",
              "      padding: 0 0 0 0;\n",
              "      width: 32px;\n",
              "    }\n",
              "\n",
              "    .colab-df-convert:hover {\n",
              "      background-color: #E2EBFA;\n",
              "      box-shadow: 0px 1px 2px rgba(60, 64, 67, 0.3), 0px 1px 3px 1px rgba(60, 64, 67, 0.15);\n",
              "      fill: #174EA6;\n",
              "    }\n",
              "\n",
              "    [theme=dark] .colab-df-convert {\n",
              "      background-color: #3B4455;\n",
              "      fill: #D2E3FC;\n",
              "    }\n",
              "\n",
              "    [theme=dark] .colab-df-convert:hover {\n",
              "      background-color: #434B5C;\n",
              "      box-shadow: 0px 1px 3px 1px rgba(0, 0, 0, 0.15);\n",
              "      filter: drop-shadow(0px 1px 2px rgba(0, 0, 0, 0.3));\n",
              "      fill: #FFFFFF;\n",
              "    }\n",
              "  </style>\n",
              "\n",
              "      <script>\n",
              "        const buttonEl =\n",
              "          document.querySelector('#df-92aaa30b-60b1-4adf-a51b-c551df53e091 button.colab-df-convert');\n",
              "        buttonEl.style.display =\n",
              "          google.colab.kernel.accessAllowed ? 'block' : 'none';\n",
              "\n",
              "        async function convertToInteractive(key) {\n",
              "          const element = document.querySelector('#df-92aaa30b-60b1-4adf-a51b-c551df53e091');\n",
              "          const dataTable =\n",
              "            await google.colab.kernel.invokeFunction('convertToInteractive',\n",
              "                                                     [key], {});\n",
              "          if (!dataTable) return;\n",
              "\n",
              "          const docLinkHtml = 'Like what you see? Visit the ' +\n",
              "            '<a target=\"_blank\" href=https://colab.research.google.com/notebooks/data_table.ipynb>data table notebook</a>'\n",
              "            + ' to learn more about interactive tables.';\n",
              "          element.innerHTML = '';\n",
              "          dataTable['output_type'] = 'display_data';\n",
              "          await google.colab.output.renderOutput(dataTable, element);\n",
              "          const docLink = document.createElement('div');\n",
              "          docLink.innerHTML = docLinkHtml;\n",
              "          element.appendChild(docLink);\n",
              "        }\n",
              "      </script>\n",
              "    </div>\n",
              "  </div>\n",
              "  "
            ]
          },
          "metadata": {},
          "execution_count": 93
        }
      ]
    },
    {
      "cell_type": "markdown",
      "source": [
        "For the above feature selection technique we can use Information gain and select the number of feature we want.We can also use feature extraction for reducing the dimensions of dataset."
      ],
      "metadata": {
        "id": "jQZjpn0YwUJM"
      }
    },
    {
      "cell_type": "markdown",
      "source": [
        "**Linear Feature Extraction**\n",
        "\n",
        "PCA"
      ],
      "metadata": {
        "id": "NP9TBwsXJwPa"
      }
    },
    {
      "cell_type": "code",
      "source": [
        "X = data.drop('satisfaction' , axis=1)\n",
        "y = data['satisfaction']\n",
        "from sklearn.preprocessing import StandardScaler\n",
        "scaler = StandardScaler()\n",
        "scaler.fit(X)  ###for performing the PCA a first step is to Do scaling if the features"
      ],
      "metadata": {
        "colab": {
          "base_uri": "https://localhost:8080/"
        },
        "id": "WocESRQB8_3E",
        "outputId": "74e614a5-32c4-4ad7-81cd-1a1773aeb70d"
      },
      "execution_count": null,
      "outputs": [
        {
          "output_type": "execute_result",
          "data": {
            "text/plain": [
              "StandardScaler()"
            ]
          },
          "metadata": {},
          "execution_count": 72
        }
      ]
    },
    {
      "cell_type": "code",
      "source": [
        "scaled_data= scaler.transform(X)"
      ],
      "metadata": {
        "id": "iPxXjFhwTnAq"
      },
      "execution_count": null,
      "outputs": []
    },
    {
      "cell_type": "code",
      "source": [
        "scaled_data"
      ],
      "metadata": {
        "colab": {
          "base_uri": "https://localhost:8080/"
        },
        "id": "8fxQae1TWvnz",
        "outputId": "5a38e56c-55cf-4f46-ecb8-4153788e60f0"
      },
      "execution_count": null,
      "outputs": [
        {
          "output_type": "execute_result",
          "data": {
            "text/plain": [
              "array([[ 1.01503056, -0.4727667 , -1.7452793 , ...,  1.30586973,\n",
              "         0.6781826 ,  0.33692206],\n",
              "       [ 1.01503056,  2.11520819, -0.95136024, ..., -1.74229153,\n",
              "        -0.4374356 , -0.21424051],\n",
              "       [-0.98519201, -0.4727667 , -0.88520032, ...,  1.30586973,\n",
              "        -0.48391969, -0.48982179],\n",
              "       ...,\n",
              "       [ 1.01503056,  2.11520819, -0.62056063, ...,  0.54382941,\n",
              "        -0.15853105,  0.15320121],\n",
              "       [-0.98519201,  2.11520819, -1.14984   , ..., -1.74229153,\n",
              "        -0.48391969, -0.48982179],\n",
              "       [ 1.01503056, -0.4727667 , -0.8190404 , ..., -1.74229153,\n",
              "        -0.48391969, -0.48982179]])"
            ]
          },
          "metadata": {},
          "execution_count": 74
        }
      ]
    },
    {
      "cell_type": "code",
      "source": [
        "from sklearn.decomposition import PCA\n",
        "scaled_data.shape"
      ],
      "metadata": {
        "colab": {
          "base_uri": "https://localhost:8080/"
        },
        "id": "DGXXuviFW5m6",
        "outputId": "f8f5b90e-ba06-4c33-bc28-d463ca720338"
      },
      "execution_count": null,
      "outputs": [
        {
          "output_type": "execute_result",
          "data": {
            "text/plain": [
              "(103904, 22)"
            ]
          },
          "metadata": {},
          "execution_count": 76
        }
      ]
    },
    {
      "cell_type": "code",
      "source": [
        "pca = PCA(n_components=10)    ###reducing the features from 22 features to 10 features"
      ],
      "metadata": {
        "id": "xJH9LE3QXEX3"
      },
      "execution_count": null,
      "outputs": []
    },
    {
      "cell_type": "markdown",
      "source": [
        "Principal Component Analysis (PCA) is a popular technique for feature extraction and dimensionality reduction. It involves finding the linear combinations of features that capture the most important patterns or variations in the data. Here's an example of how PCA works:\n",
        "Step 1: Standardize the Data\n",
        "Step 2: Compute the Covariance Matrix\n",
        "Step 3: Compute the Eigenvectors and Eigenvalues\n",
        "Step 4: Select the Principal Components\n",
        "Step 5: Transform the Data\n",
        "Step 6: Visualize the Data\n"
      ],
      "metadata": {
        "id": "P0FUzmoYZgG6"
      }
    },
    {
      "cell_type": "code",
      "source": [
        "pca.fit(scaled_data)"
      ],
      "metadata": {
        "colab": {
          "base_uri": "https://localhost:8080/"
        },
        "id": "WHGpqO2VYnTH",
        "outputId": "90641d55-7dcd-49ad-c3cc-ff8c9b8a556f"
      },
      "execution_count": null,
      "outputs": [
        {
          "output_type": "execute_result",
          "data": {
            "text/plain": [
              "PCA(n_components=10)"
            ]
          },
          "metadata": {},
          "execution_count": 78
        }
      ]
    },
    {
      "cell_type": "code",
      "source": [
        "x_pca = pca.transform(scaled_data)"
      ],
      "metadata": {
        "id": "91oVY4iZYs9D"
      },
      "execution_count": null,
      "outputs": []
    },
    {
      "cell_type": "code",
      "source": [
        "scaled_data.shape"
      ],
      "metadata": {
        "colab": {
          "base_uri": "https://localhost:8080/"
        },
        "id": "QqOlBkjOY2Go",
        "outputId": "ea20b7a3-0196-451b-ca51-e6954e55560b"
      },
      "execution_count": null,
      "outputs": [
        {
          "output_type": "execute_result",
          "data": {
            "text/plain": [
              "(103904, 22)"
            ]
          },
          "metadata": {},
          "execution_count": 80
        }
      ]
    },
    {
      "cell_type": "code",
      "source": [
        "x_pca.shape"
      ],
      "metadata": {
        "colab": {
          "base_uri": "https://localhost:8080/"
        },
        "id": "jdwgU6hqY5GX",
        "outputId": "0d84ac5b-11d1-43b8-d259-9f1b9e72d97f"
      },
      "execution_count": null,
      "outputs": [
        {
          "output_type": "execute_result",
          "data": {
            "text/plain": [
              "(103904, 10)"
            ]
          },
          "metadata": {},
          "execution_count": 81
        }
      ]
    },
    {
      "cell_type": "code",
      "source": [
        "selected_features = []\n",
        "for i in df_info['index']:\n",
        "  selected_features.append(i)\n",
        "  if i == 'Baggage handling':\n",
        "    break"
      ],
      "metadata": {
        "id": "VdNXEZcXx3oS"
      },
      "execution_count": null,
      "outputs": []
    },
    {
      "cell_type": "code",
      "source": [
        "selected_features"
      ],
      "metadata": {
        "colab": {
          "base_uri": "https://localhost:8080/"
        },
        "id": "Onuq_ytUx-J0",
        "outputId": "6370f593-631e-414e-c8cd-2e99f5e7ec9a"
      },
      "execution_count": null,
      "outputs": [
        {
          "output_type": "execute_result",
          "data": {
            "text/plain": [
              "['Online boarding',\n",
              " 'Inflight wifi service',\n",
              " 'Class',\n",
              " 'Type of Travel',\n",
              " 'Inflight entertainment',\n",
              " 'Seat comfort',\n",
              " 'Leg room service',\n",
              " 'Flight Distance',\n",
              " 'On-board service',\n",
              " 'Cleanliness',\n",
              " 'Ease of Online booking',\n",
              " 'Inflight service',\n",
              " 'Age',\n",
              " 'Baggage handling']"
            ]
          },
          "metadata": {},
          "execution_count": 92
        }
      ]
    },
    {
      "cell_type": "code",
      "source": [
        "X = data[selected_features]\n",
        "y = data['satisfaction']"
      ],
      "metadata": {
        "id": "hAqxhoVCzNLS"
      },
      "execution_count": null,
      "outputs": []
    },
    {
      "cell_type": "markdown",
      "source": [
        "**Model Building**\n",
        "\n",
        "Logistic regression"
      ],
      "metadata": {
        "id": "ts8xDpC701mK"
      }
    },
    {
      "cell_type": "code",
      "source": [
        "from sklearn.model_selection import train_test_split,cross_val_score , GridSearchCV\n",
        "from sklearn.linear_model import LogisticRegression\n",
        "from sklearn.metrics import accuracy_score , confusion_matrix , classification_report"
      ],
      "metadata": {
        "id": "Bsx12x5J0f-t"
      },
      "execution_count": null,
      "outputs": []
    },
    {
      "cell_type": "code",
      "source": [
        "X_train , X_test , y_train ,y_test=train_test_split(X , y , test_size=0.2 , random_state=42)"
      ],
      "metadata": {
        "id": "ADWKQVee0iJY"
      },
      "execution_count": null,
      "outputs": []
    },
    {
      "cell_type": "code",
      "source": [
        "X_train_scaled = scaler.fit_transform(X_train)   \n",
        "X_test_scaled = scaler.transform(X_test)   ##dont fit the test data "
      ],
      "metadata": {
        "id": "66b1nwQs49cZ"
      },
      "execution_count": null,
      "outputs": []
    },
    {
      "cell_type": "markdown",
      "source": [
        "Logistic Regression Model"
      ],
      "metadata": {
        "id": "_NkHsRKH7AaP"
      }
    },
    {
      "cell_type": "code",
      "source": [
        "log_model = LogisticRegression()\n",
        "log_model.fit(X_train_scaled , y_train)\n",
        "log_y_pred = log_model.predict(X_test_scaled)\n",
        "log_acc = accuracy_score(log_y_pred , y_test)\n",
        "log_con = confusion_matrix(log_y_pred , y_test)"
      ],
      "metadata": {
        "id": "JaaLdaye5YoB"
      },
      "execution_count": null,
      "outputs": []
    },
    {
      "cell_type": "code",
      "source": [
        "print('The accuracy of log model is {} %'.format(log_acc*100))\n",
        "sns.heatmap(log_con , annot=True , cbar=False , fmt='.6g')"
      ],
      "metadata": {
        "colab": {
          "base_uri": "https://localhost:8080/",
          "height": 300
        },
        "id": "HumGHACP6rzY",
        "outputId": "77f13b0e-d3e5-42e9-e6eb-512188dd74bc"
      },
      "execution_count": null,
      "outputs": [
        {
          "output_type": "stream",
          "name": "stdout",
          "text": [
            "The accuracy of log model is 85.65035368846543 %\n"
          ]
        },
        {
          "output_type": "execute_result",
          "data": {
            "text/plain": [
              "<AxesSubplot:>"
            ]
          },
          "metadata": {},
          "execution_count": 123
        },
        {
          "output_type": "display_data",
          "data": {
            "text/plain": [
              "<Figure size 432x288 with 1 Axes>"
            ],
            "image/png": "[encoded data removed]"
          },
          "metadata": {}
        }
      ]
    },
    {
      "cell_type": "code",
      "source": [
        "print(log_con)"
      ],
      "metadata": {
        "colab": {
          "base_uri": "https://localhost:8080/"
        },
        "id": "EZZmso1l7KhV",
        "outputId": "12d0d60f-397f-44b3-bd69-24c83f3bdfb6"
      },
      "execution_count": null,
      "outputs": [
        {
          "output_type": "stream",
          "name": "stdout",
          "text": [
            "[[10361  1630]\n",
            " [ 1352  7438]]\n"
          ]
        }
      ]
    },
    {
      "cell_type": "code",
      "source": [
        "X.to_csv('clean.csv')"
      ],
      "metadata": {
        "id": "sO5wtrzVF2eN"
      },
      "execution_count": null,
      "outputs": []
    },
    {
      "cell_type": "markdown",
      "source": [
        "Cross validation"
      ],
      "metadata": {
        "id": "LTiR4H1HBXAb"
      }
    },
    {
      "cell_type": "code",
      "source": [
        "cross_score = cross_val_score(log_model , X_train_scaled , y_train , cv=7)"
      ],
      "metadata": {
        "id": "fCttxAb49K6W"
      },
      "execution_count": null,
      "outputs": []
    },
    {
      "cell_type": "code",
      "source": [
        "cross_score"
      ],
      "metadata": {
        "colab": {
          "base_uri": "https://localhost:8080/"
        },
        "id": "KL1ogVmvCLu2",
        "outputId": "2abd3ae2-50d6-452a-c905-6e9350717b23"
      },
      "execution_count": null,
      "outputs": [
        {
          "output_type": "execute_result",
          "data": {
            "text/plain": [
              "array([0.85793684, 0.85608421, 0.85018947, 0.85465263, 0.85911579,\n",
              "       0.8565774 , 0.85253495])"
            ]
          },
          "metadata": {},
          "execution_count": 126
        }
      ]
    },
    {
      "cell_type": "markdown",
      "source": [
        "Desicion Tree"
      ],
      "metadata": {
        "id": "0gpE4FzqE0Fh"
      }
    },
    {
      "cell_type": "code",
      "source": [
        "from sklearn import tree\n",
        "dtc = tree.DecisionTreeClassifier()\n",
        "dtc.fit(X_train_scaled , y_train)\n",
        "dtc_y_pred = dtc.predict(X_test_scaled)\n",
        "dtc_score = accuracy_score(dtc_y_pred , y_test)\n",
        "dtc_con = confusion_matrix(dtc_y_pred , y_test)"
      ],
      "metadata": {
        "id": "1ANUDy8gDdct"
      },
      "execution_count": null,
      "outputs": []
    },
    {
      "cell_type": "code",
      "source": [
        "print('The accuracy score for Decission Tree {} %'.format(dtc_score*100))\n",
        "sns.heatmap(dtc_con , annot=True , cbar=False , fmt='.6g')"
      ],
      "metadata": {
        "colab": {
          "base_uri": "https://localhost:8080/",
          "height": 300
        },
        "id": "mYnQ_rBLFzek",
        "outputId": "79b86694-9d8a-47bc-9fcf-b625914895cb"
      },
      "execution_count": null,
      "outputs": [
        {
          "output_type": "stream",
          "name": "stdout",
          "text": [
            "The accuracy score for Decission Tree 93.37375487223906 %\n"
          ]
        },
        {
          "output_type": "execute_result",
          "data": {
            "text/plain": [
              "<AxesSubplot:>"
            ]
          },
          "metadata": {},
          "execution_count": 134
        },
        {
          "output_type": "display_data",
          "data": {
            "text/plain": [
              "<Figure size 432x288 with 1 Axes>"
            ],
            "image/png": "[encoded data removed]"
          },
          "metadata": {}
        }
      ]
    },
    {
      "cell_type": "markdown",
      "source": [
        "Random Forest"
      ],
      "metadata": {
        "id": "kodmxbrVH--_"
      }
    },
    {
      "cell_type": "code",
      "source": [
        "from sklearn.ensemble import RandomForestClassifier\n",
        "rfc = RandomForestClassifier()\n",
        "rfc.fit(X_train_scaled , y_train)\n",
        "rfc_y_pred = rfc.predict(X_test_scaled)\n",
        "rfc_score = accuracy_score(rfc_y_pred , y_test)\n",
        "rfc_con = confusion_matrix(y_test , rfc_y_pred)"
      ],
      "metadata": {
        "id": "bhds9NmFG9MC"
      },
      "execution_count": null,
      "outputs": []
    },
    {
      "cell_type": "code",
      "source": [
        "print('The accuracy of random forest {}%'.format(rfc_score*100))\n",
        "sns.heatmap(rfc_con  ,annot=True , cbar=False , fmt='.6g')"
      ],
      "metadata": {
        "colab": {
          "base_uri": "https://localhost:8080/",
          "height": 300
        },
        "id": "rMT2qiGJIfV4",
        "outputId": "f3cf81e2-3f00-4c50-d571-eccd448087c0"
      },
      "execution_count": null,
      "outputs": [
        {
          "output_type": "stream",
          "name": "stdout",
          "text": [
            "The accuracy of random forest 95.3226504980511%\n"
          ]
        },
        {
          "output_type": "execute_result",
          "data": {
            "text/plain": [
              "<AxesSubplot:>"
            ]
          },
          "metadata": {},
          "execution_count": 144
        },
        {
          "output_type": "display_data",
          "data": {
            "text/plain": [
              "<Figure size 432x288 with 1 Axes>"
            ],
            "image/png": "[encoded data removed]"
          },
          "metadata": {}
        }
      ]
    },
    {
      "cell_type": "markdown",
      "source": [
        "Hyper parameter tunning for Random forest classifier"
      ],
      "metadata": {
        "id": "onR0jfIbJy7q"
      }
    },
    {
      "cell_type": "code",
      "source": [
        "'''\n",
        "param_grid = {\n",
        "    'n_estimators': [50, 100, 200],\n",
        "    'max_depth': [None, 5, 10],\n",
        "    'min_samples_split': [2, 5, 10],\n",
        "    'min_samples_leaf': [1, 2, 4]\n",
        "}\n",
        "grid_search = GridSearchCV(estimator=rfc, param_grid=param_grid, cv=5, n_jobs=-1)\n",
        "grid_search.fit(X_train_scaled, y_train)\n",
        "'''"
      ],
      "metadata": {
        "colab": {
          "base_uri": "https://localhost:8080/"
        },
        "id": "TdixYV29IxMx",
        "outputId": "e892bc1a-248f-4ce6-8a26-64d2ab1323ba"
      },
      "execution_count": null,
      "outputs": [
        {
          "output_type": "execute_result",
          "data": {
            "text/plain": [
              "GridSearchCV(cv=5, estimator=RandomForestClassifier(), n_jobs=-1,\n",
              "             param_grid={'max_depth': [None, 5, 10],\n",
              "                         'min_samples_leaf': [1, 2, 4],\n",
              "                         'min_samples_split': [2, 5, 10],\n",
              "                         'n_estimators': [50, 100, 200]})"
            ]
          },
          "metadata": {},
          "execution_count": 145
        }
      ]
    },
    {
      "cell_type": "code",
      "source": [
        "# grid_search.best_params_"
      ],
      "metadata": {
        "colab": {
          "base_uri": "https://localhost:8080/"
        },
        "id": "x_XrB78HKHAL",
        "outputId": "60c4145f-eecf-477c-9c28-8f5d2a9d5640"
      },
      "execution_count": null,
      "outputs": [
        {
          "output_type": "execute_result",
          "data": {
            "text/plain": [
              "{'max_depth': None,\n",
              " 'min_samples_leaf': 1,\n",
              " 'min_samples_split': 5,\n",
              " 'n_estimators': 200}"
            ]
          },
          "metadata": {},
          "execution_count": 146
        }
      ]
    },
    {
      "cell_type": "code",
      "source": [
        "# grid_search.best_score_"
      ],
      "metadata": {
        "colab": {
          "base_uri": "https://localhost:8080/"
        },
        "id": "iGpFlYW9QrWd",
        "outputId": "af0372f1-a1b5-4b74-feb9-bb3c715b2600"
      },
      "execution_count": null,
      "outputs": [
        {
          "output_type": "execute_result",
          "data": {
            "text/plain": [
              "0.9549222741647189"
            ]
          },
          "metadata": {},
          "execution_count": 147
        }
      ]
    },
    {
      "cell_type": "code",
      "source": [
        "rfc_hyper = RandomForestClassifier(max_depth = None,\n",
        " min_samples_leaf = 1,\n",
        " min_samples_split = 5,\n",
        " n_estimators = 200)\n",
        "rfc_hyper.fit(X_train_scaled , y_train)\n",
        "rfc_hyper_y_pred = rfc_hyper.predict(X_test_scaled)\n",
        "rfc_hyper_score = accuracy_score(rfc_hyper_y_pred , y_test)\n",
        "rfc_hyper_con = confusion_matrix(y_test , rfc_hyper_y_pred)\n"
      ],
      "metadata": {
        "id": "zpe4F5i_Qv7t"
      },
      "execution_count": null,
      "outputs": []
    },
    {
      "cell_type": "code",
      "source": [
        "print('The score after hyper parameter tunning {} %'.format(rfc_hyper_score*100))\n",
        "sns.heatmap(rfc_hyper_con , annot =True , cbar=False , fmt='.6g')"
      ],
      "metadata": {
        "colab": {
          "base_uri": "https://localhost:8080/",
          "height": 300
        },
        "id": "fsKJZG3ERNe6",
        "outputId": "e5481657-801d-4b8d-fc15-3342abc58c24"
      },
      "execution_count": null,
      "outputs": [
        {
          "output_type": "stream",
          "name": "stdout",
          "text": [
            "The score after hyper parameter tunning 95.45257687310524 %\n"
          ]
        },
        {
          "output_type": "execute_result",
          "data": {
            "text/plain": [
              "<AxesSubplot:>"
            ]
          },
          "metadata": {},
          "execution_count": 150
        },
        {
          "output_type": "display_data",
          "data": {
            "text/plain": [
              "<Figure size 432x288 with 1 Axes>"
            ],
            "image/png": "[encoded data removed]"
          },
          "metadata": {}
        }
      ]
    },
    {
      "cell_type": "markdown",
      "source": [
        "***Obesrvation-***\n",
        "LogisticRegression gave us accuracy of 86% , preccision of 82% , and recall of 85%.\n",
        "\n",
        "Random foreset gave us accuracy of 95% , precission of 96% and recall of 92%.\n",
        "\n",
        "Even after performing hyper parameter tunning of Random forest accuracy increased slightly.\n"
      ],
      "metadata": {
        "id": "gochvs-LSYnF"
      }
    },
    {
      "cell_type": "markdown",
      "source": [
        "**Boosting techniques.**"
      ],
      "metadata": {
        "id": "dLxsGY0SUsRh"
      }
    },
    {
      "cell_type": "code",
      "source": [
        "from sklearn.ensemble import GradientBoostingClassifier\n",
        "grad_boost = GradientBoostingClassifier()\n",
        "grad_boost.fit(X_train_scaled,y_train)\n",
        "grad_boost_y_pred = grad_boost.predict(X_test_scaled)\n",
        "grad_boost_score = accuracy_score(grad_boost_y_pred , y_test)\n",
        "grad_boost_con = confusion_matrix(y_test , grad_boost_y_pred)"
      ],
      "metadata": {
        "id": "HD9-XCroSPGB"
      },
      "execution_count": null,
      "outputs": []
    },
    {
      "cell_type": "code",
      "source": [
        "print('The accuracy of boosting is {} %'.format(grad_boost_score*100))\n",
        "sns.heatmap(grad_boost_con , annot=True , cbar=False , fmt='.6g')"
      ],
      "metadata": {
        "colab": {
          "base_uri": "https://localhost:8080/",
          "height": 300
        },
        "id": "kkUOU1OuVnQu",
        "outputId": "98f3da53-e778-438e-f125-27a5fe06de71"
      },
      "execution_count": null,
      "outputs": [
        {
          "output_type": "stream",
          "name": "stdout",
          "text": [
            "The accuracy of boosting is 92.9935999230066 %\n"
          ]
        },
        {
          "output_type": "execute_result",
          "data": {
            "text/plain": [
              "<AxesSubplot:>"
            ]
          },
          "metadata": {},
          "execution_count": 154
        },
        {
          "output_type": "display_data",
          "data": {
            "text/plain": [
              "<Figure size 432x288 with 1 Axes>"
            ],
            "image/png": "[encoded data removed]"
          },
          "metadata": {}
        }
      ]
    },
    {
      "cell_type": "markdown",
      "source": [
        "Artifical Neural Network"
      ],
      "metadata": {
        "id": "Xpo1PU4IYLFs"
      }
    },
    {
      "cell_type": "code",
      "source": [
        "from tensorflow.keras.models import Sequential\n",
        "from tensorflow.keras.layers import Dense\n",
        "from tensorflow.keras.layers import LeakyReLU , PReLU , ELU , ReLU\n",
        "from tensorflow.keras.layers import Dropout"
      ],
      "metadata": {
        "id": "tFhpq7bWYElI"
      },
      "execution_count": null,
      "outputs": []
    },
    {
      "cell_type": "code",
      "source": [
        "print(X_train_scaled.shape , X_test_scaled.shape)"
      ],
      "metadata": {
        "colab": {
          "base_uri": "https://localhost:8080/"
        },
        "id": "4CTDlo_vaYoB",
        "outputId": "949c70a0-ca11-4de6-979b-2766b0961ea4"
      },
      "execution_count": null,
      "outputs": [
        {
          "output_type": "stream",
          "name": "stdout",
          "text": [
            "(83123, 14) (20781, 14)\n"
          ]
        }
      ]
    },
    {
      "cell_type": "code",
      "source": [
        "input_neuron = 14\n",
        "first_hidden_neuron_layer = 10 \n",
        "second_hidden_neuron_layer = 6\n",
        "third_hidden_neuron_layer = 2\n",
        "output_neuron = 1\n",
        "classifier = Sequential()\n",
        "classifier.add(Dense(units=input_neuron , activation='relu',kernel_initializer='normal'))\n",
        "classifier.add(Dense(units=first_hidden_neuron_layer , activation=LeakyReLU(alpha=0.01),kernel_initializer='GlorotNormal'))\n",
        "classifier.add(Dense(units=second_hidden_neuron_layer , activation='relu',kernel_initializer='GlorotUniform'))\n",
        "classifier.add(Dense(units=third_hidden_neuron_layer , activation=LeakyReLU(alpha=0.01),kernel_initializer='HeNormal'))\n",
        "classifier.add(Dense(output_neuron,activation='sigmoid',kernel_initializer='HeUniform'))\n",
        "classifier.compile(optimizer='adam',loss='binary_crossentropy'  ,metrics=['accuracy'])"
      ],
      "metadata": {
        "id": "M7dwJkWMaJYE"
      },
      "execution_count": 185,
      "outputs": []
    },
    {
      "cell_type": "code",
      "source": [
        "ann_model_history = classifier.fit(X_train_scaled , y_train , validation_split=0.20 , epochs=10 , batch_size=10)"
      ],
      "metadata": {
        "colab": {
          "base_uri": "https://localhost:8080/"
        },
        "id": "c49nYXKQdCs9",
        "outputId": "3a554f18-257f-4095-bfb1-c096f9349200"
      },
      "execution_count": 186,
      "outputs": [
        {
          "output_type": "stream",
          "name": "stdout",
          "text": [
            "Epoch 1/10\n",
            "6650/6650 [==============================] - 16s 2ms/step - loss: 0.2237 - accuracy: 0.9083 - val_loss: 0.1775 - val_accuracy: 0.9287\n",
            "Epoch 2/10\n",
            "6650/6650 [==============================] - 15s 2ms/step - loss: 0.1724 - accuracy: 0.9282 - val_loss: 0.1623 - val_accuracy: 0.9338\n",
            "Epoch 3/10\n",
            "6650/6650 [==============================] - 16s 2ms/step - loss: 0.1651 - accuracy: 0.9307 - val_loss: 0.1604 - val_accuracy: 0.9352\n",
            "Epoch 4/10\n",
            "6650/6650 [==============================] - 16s 2ms/step - loss: 0.1600 - accuracy: 0.9338 - val_loss: 0.1540 - val_accuracy: 0.9364\n",
            "Epoch 5/10\n",
            "6650/6650 [==============================] - 16s 2ms/step - loss: 0.1565 - accuracy: 0.9353 - val_loss: 0.1514 - val_accuracy: 0.9366\n",
            "Epoch 6/10\n",
            "6650/6650 [==============================] - 15s 2ms/step - loss: 0.1532 - accuracy: 0.9356 - val_loss: 0.1508 - val_accuracy: 0.9362\n",
            "Epoch 7/10\n",
            "6650/6650 [==============================] - 14s 2ms/step - loss: 0.1503 - accuracy: 0.9370 - val_loss: 0.1466 - val_accuracy: 0.9391\n",
            "Epoch 8/10\n",
            "6650/6650 [==============================] - 14s 2ms/step - loss: 0.1491 - accuracy: 0.9381 - val_loss: 0.1486 - val_accuracy: 0.9392\n",
            "Epoch 9/10\n",
            "6650/6650 [==============================] - 14s 2ms/step - loss: 0.1472 - accuracy: 0.9380 - val_loss: 0.1434 - val_accuracy: 0.9405\n",
            "Epoch 10/10\n",
            "6650/6650 [==============================] - 15s 2ms/step - loss: 0.1459 - accuracy: 0.9396 - val_loss: 0.1429 - val_accuracy: 0.9409\n"
          ]
        }
      ]
    },
    {
      "cell_type": "code",
      "source": [
        "## Early stopping if accuracy is not increasing to stop the training\n",
        "import tensorflow\n",
        "early_stop = tensorflow.keras.callbacks.EarlyStopping(\n",
        "    monitor=\"val_loss\",\n",
        "    min_delta=0.001,\n",
        "    patience=20,\n",
        "    verbose=1,\n",
        "    mode=\"auto\",\n",
        "    baseline=None,\n",
        "    restore_best_weights=False,\n",
        ")"
      ],
      "metadata": {
        "id": "TL-2SvrmdjgZ"
      },
      "execution_count": 169,
      "outputs": []
    },
    {
      "cell_type": "code",
      "source": [
        "ann_model_history = classifier.fit(X_train_scaled , y_train , validation_split=0.20 , epochs=30 , batch_size=10 , callbacks=early_stop)"
      ],
      "metadata": {
        "colab": {
          "base_uri": "https://localhost:8080/"
        },
        "id": "kwgefCzxhdhR",
        "outputId": "d3cfdb32-780e-40cb-845f-3c84cf5fd7c0"
      },
      "execution_count": 187,
      "outputs": [
        {
          "output_type": "stream",
          "name": "stdout",
          "text": [
            "Epoch 1/30\n",
            "6650/6650 [==============================] - 15s 2ms/step - loss: 0.1432 - accuracy: 0.9407 - val_loss: 0.1408 - val_accuracy: 0.9422\n",
            "Epoch 2/30\n",
            "6650/6650 [==============================] - 14s 2ms/step - loss: 0.1423 - accuracy: 0.9410 - val_loss: 0.1413 - val_accuracy: 0.9425\n",
            "Epoch 3/30\n",
            "6650/6650 [==============================] - 14s 2ms/step - loss: 0.1415 - accuracy: 0.9409 - val_loss: 0.1407 - val_accuracy: 0.9414\n",
            "Epoch 4/30\n",
            "6650/6650 [==============================] - 15s 2ms/step - loss: 0.1416 - accuracy: 0.9413 - val_loss: 0.1402 - val_accuracy: 0.9441\n",
            "Epoch 5/30\n",
            "6650/6650 [==============================] - 15s 2ms/step - loss: 0.1396 - accuracy: 0.9419 - val_loss: 0.1397 - val_accuracy: 0.9408\n",
            "Epoch 6/30\n",
            "6650/6650 [==============================] - 14s 2ms/step - loss: 0.1390 - accuracy: 0.9425 - val_loss: 0.1389 - val_accuracy: 0.9441\n",
            "Epoch 7/30\n",
            "6650/6650 [==============================] - 15s 2ms/step - loss: 0.1386 - accuracy: 0.9427 - val_loss: 0.1369 - val_accuracy: 0.9431\n",
            "Epoch 8/30\n",
            "6650/6650 [==============================] - 15s 2ms/step - loss: 0.1380 - accuracy: 0.9430 - val_loss: 0.1375 - val_accuracy: 0.9418\n",
            "Epoch 9/30\n",
            "6650/6650 [==============================] - 14s 2ms/step - loss: 0.1375 - accuracy: 0.9433 - val_loss: 0.1351 - val_accuracy: 0.9428\n",
            "Epoch 10/30\n",
            "6650/6650 [==============================] - 15s 2ms/step - loss: 0.1363 - accuracy: 0.9431 - val_loss: 0.1362 - val_accuracy: 0.9426\n",
            "Epoch 11/30\n",
            "6650/6650 [==============================] - 15s 2ms/step - loss: 0.1362 - accuracy: 0.9439 - val_loss: 0.1404 - val_accuracy: 0.9417\n",
            "Epoch 12/30\n",
            "6650/6650 [==============================] - 14s 2ms/step - loss: 0.1360 - accuracy: 0.9434 - val_loss: 0.1382 - val_accuracy: 0.9429\n",
            "Epoch 13/30\n",
            "6650/6650 [==============================] - 15s 2ms/step - loss: 0.1355 - accuracy: 0.9435 - val_loss: 0.1368 - val_accuracy: 0.9442\n",
            "Epoch 14/30\n",
            "6650/6650 [==============================] - 14s 2ms/step - loss: 0.1353 - accuracy: 0.9433 - val_loss: 0.1351 - val_accuracy: 0.9445\n",
            "Epoch 15/30\n",
            "6650/6650 [==============================] - 15s 2ms/step - loss: 0.1352 - accuracy: 0.9436 - val_loss: 0.1357 - val_accuracy: 0.9444\n",
            "Epoch 16/30\n",
            "6650/6650 [==============================] - 15s 2ms/step - loss: 0.1345 - accuracy: 0.9444 - val_loss: 0.1371 - val_accuracy: 0.9425\n",
            "Epoch 17/30\n",
            "6650/6650 [==============================] - 15s 2ms/step - loss: 0.1345 - accuracy: 0.9444 - val_loss: 0.1354 - val_accuracy: 0.9445\n",
            "Epoch 18/30\n",
            "6650/6650 [==============================] - 15s 2ms/step - loss: 0.1340 - accuracy: 0.9443 - val_loss: 0.1375 - val_accuracy: 0.9445\n",
            "Epoch 19/30\n",
            "6650/6650 [==============================] - 14s 2ms/step - loss: 0.1333 - accuracy: 0.9445 - val_loss: 0.1324 - val_accuracy: 0.9454\n",
            "Epoch 20/30\n",
            "6650/6650 [==============================] - 14s 2ms/step - loss: 0.1338 - accuracy: 0.9445 - val_loss: 0.1329 - val_accuracy: 0.9459\n",
            "Epoch 21/30\n",
            "6650/6650 [==============================] - 14s 2ms/step - loss: 0.1339 - accuracy: 0.9437 - val_loss: 0.1343 - val_accuracy: 0.9462\n",
            "Epoch 22/30\n",
            "6650/6650 [==============================] - 15s 2ms/step - loss: 0.1332 - accuracy: 0.9443 - val_loss: 0.1334 - val_accuracy: 0.9450\n",
            "Epoch 23/30\n",
            "6650/6650 [==============================] - 15s 2ms/step - loss: 0.1328 - accuracy: 0.9446 - val_loss: 0.1342 - val_accuracy: 0.9448\n",
            "Epoch 24/30\n",
            "6650/6650 [==============================] - 14s 2ms/step - loss: 0.1330 - accuracy: 0.9444 - val_loss: 0.1344 - val_accuracy: 0.9435\n",
            "Epoch 25/30\n",
            "6650/6650 [==============================] - 15s 2ms/step - loss: 0.1326 - accuracy: 0.9448 - val_loss: 0.1321 - val_accuracy: 0.9448\n",
            "Epoch 26/30\n",
            "6650/6650 [==============================] - 14s 2ms/step - loss: 0.1323 - accuracy: 0.9451 - val_loss: 0.1297 - val_accuracy: 0.9466\n",
            "Epoch 27/30\n",
            "6650/6650 [==============================] - 15s 2ms/step - loss: 0.1323 - accuracy: 0.9457 - val_loss: 0.1333 - val_accuracy: 0.9433\n",
            "Epoch 28/30\n",
            "6650/6650 [==============================] - 15s 2ms/step - loss: 0.1316 - accuracy: 0.9453 - val_loss: 0.1383 - val_accuracy: 0.9413\n",
            "Epoch 29/30\n",
            "6650/6650 [==============================] - 18s 3ms/step - loss: 0.1315 - accuracy: 0.9453 - val_loss: 0.1315 - val_accuracy: 0.9445\n",
            "Epoch 30/30\n",
            "6650/6650 [==============================] - 21s 3ms/step - loss: 0.1309 - accuracy: 0.9459 - val_loss: 0.1292 - val_accuracy: 0.9468\n"
          ]
        }
      ]
    },
    {
      "cell_type": "code",
      "source": [
        "ann_y_pred = classifier.predict(X_test_scaled)"
      ],
      "metadata": {
        "colab": {
          "base_uri": "https://localhost:8080/"
        },
        "id": "VXEDIZfGh-b_",
        "outputId": "5cb6b1f7-51ab-47b0-b089-fd278aad5d46"
      },
      "execution_count": 191,
      "outputs": [
        {
          "output_type": "stream",
          "name": "stdout",
          "text": [
            "650/650 [==============================] - 1s 2ms/step\n"
          ]
        }
      ]
    },
    {
      "cell_type": "code",
      "source": [
        "ann_y_pred = (ann_y_pred>=0.5)\n",
        "ann_score = accuracy_score(ann_y_pred , y_test)\n",
        "ann_con = confusion_matrix(y_test,ann_y_pred)"
      ],
      "metadata": {
        "id": "rPU7aR3RuQsD"
      },
      "execution_count": 196,
      "outputs": []
    },
    {
      "cell_type": "code",
      "source": [
        "print('The accuracy of ANN model {} %'.format(ann_score*100))\n",
        "sns.heatmap(ann_con , annot=True , cbar=False, fmt='.6g')"
      ],
      "metadata": {
        "colab": {
          "base_uri": "https://localhost:8080/",
          "height": 300
        },
        "id": "p3LqcrDEugYY",
        "outputId": "41075213-229b-4cf6-94f7-ace0d8142ab9"
      },
      "execution_count": 197,
      "outputs": [
        {
          "output_type": "stream",
          "name": "stdout",
          "text": [
            "The accuracy of ANN model 94.42760213656706 %\n"
          ]
        },
        {
          "output_type": "execute_result",
          "data": {
            "text/plain": [
              "<AxesSubplot:>"
            ]
          },
          "metadata": {},
          "execution_count": 197
        },
        {
          "output_type": "display_data",
          "data": {
            "text/plain": [
              "<Figure size 432x288 with 1 Axes>"
            ],
            "image/png": "[encoded data removed]"
          },
          "metadata": {}
        }
      ]
    },
    {
      "cell_type": "code",
      "source": [
        "!pip install catboost\n",
        "import catboost as cb"
      ],
      "metadata": {
        "colab": {
          "base_uri": "https://localhost:8080/"
        },
        "id": "2wJxn0WevtBt",
        "outputId": "29120194-1142-40e4-b829-61b3640f114a"
      },
      "execution_count": 199,
      "outputs": [
        {
          "output_type": "stream",
          "name": "stdout",
          "text": [
            "Looking in indexes: https://pypi.org/simple, https://us-python.pkg.dev/colab-wheels/public/simple/\n",
            "Collecting catboost\n",
            "  Downloading catboost-1.1.1-cp38-none-manylinux1_x86_64.whl (76.6 MB)\n",
            "\u001b[2K     \u001b[90m━━━━━━━━━━━━━━━━━━━━━━━━━━━━━━━━━━━━━━━━\u001b[0m \u001b[32m76.6/76.6 MB\u001b[0m \u001b[31m11.8 MB/s\u001b[0m eta \u001b[36m0:00:00\u001b[0m\n",
            "\u001b[?25hRequirement already satisfied: scipy in /usr/local/lib/python3.8/dist-packages (from catboost) (1.7.3)\n",
            "Requirement already satisfied: numpy>=1.16.0 in /usr/local/lib/python3.8/dist-packages (from catboost) (1.22.4)\n",
            "Requirement already satisfied: matplotlib in /usr/local/lib/python3.8/dist-packages (from catboost) (3.5.3)\n",
            "Requirement already satisfied: graphviz in /usr/local/lib/python3.8/dist-packages (from catboost) (0.10.1)\n",
            "Requirement already satisfied: six in /usr/local/lib/python3.8/dist-packages (from catboost) (1.15.0)\n",
            "Requirement already satisfied: pandas>=0.24.0 in /usr/local/lib/python3.8/dist-packages (from catboost) (1.3.5)\n",
            "Requirement already satisfied: plotly in /usr/local/lib/python3.8/dist-packages (from catboost) (5.5.0)\n",
            "Requirement already satisfied: python-dateutil>=2.7.3 in /usr/local/lib/python3.8/dist-packages (from pandas>=0.24.0->catboost) (2.8.2)\n",
            "Requirement already satisfied: pytz>=2017.3 in /usr/local/lib/python3.8/dist-packages (from pandas>=0.24.0->catboost) (2022.7.1)\n",
            "Requirement already satisfied: fonttools>=4.22.0 in /usr/local/lib/python3.8/dist-packages (from matplotlib->catboost) (4.38.0)\n",
            "Requirement already satisfied: cycler>=0.10 in /usr/local/lib/python3.8/dist-packages (from matplotlib->catboost) (0.11.0)\n",
            "Requirement already satisfied: packaging>=20.0 in /usr/local/lib/python3.8/dist-packages (from matplotlib->catboost) (23.0)\n",
            "Requirement already satisfied: kiwisolver>=1.0.1 in /usr/local/lib/python3.8/dist-packages (from matplotlib->catboost) (1.4.4)\n",
            "Requirement already satisfied: pyparsing>=2.2.1 in /usr/local/lib/python3.8/dist-packages (from matplotlib->catboost) (3.0.9)\n",
            "Requirement already satisfied: pillow>=6.2.0 in /usr/local/lib/python3.8/dist-packages (from matplotlib->catboost) (7.1.2)\n",
            "Requirement already satisfied: tenacity>=6.2.0 in /usr/local/lib/python3.8/dist-packages (from plotly->catboost) (8.2.1)\n",
            "Installing collected packages: catboost\n",
            "Successfully installed catboost-1.1.1\n"
          ]
        }
      ]
    },
    {
      "cell_type": "code",
      "source": [
        "cat_model = cb.CatBoostClassifier(iterations=100, # Number of boosting iterations to perform\n",
        "    learning_rate=0.1,         # Learning rate for gradient boosting\n",
        "    depth=6                # Maximum depth of the decision trees \n",
        "    )\n",
        "cat_model.fit(X_train_scaled,y_train)\n",
        "y_cat_pred = cat_model.predict(X_test_scaled)\n",
        "cat_score = accuracy_score(y_cat_pred , y_test)\n",
        "cat_con = confusion_matrix(y_test , y_cat_pred)"
      ],
      "metadata": {
        "colab": {
          "base_uri": "https://localhost:8080/"
        },
        "id": "dJPxH6G6wADN",
        "outputId": "9c0b2e4a-7459-47b9-8778-be7d48b4d6ce"
      },
      "execution_count": 200,
      "outputs": [
        {
          "output_type": "stream",
          "name": "stdout",
          "text": [
            "0:\tlearn: 0.6267192\ttotal: 58.3ms\tremaining: 5.77s\n",
            "1:\tlearn: 0.5731067\ttotal: 69.5ms\tremaining: 3.41s\n",
            "2:\tlearn: 0.5290095\ttotal: 92.1ms\tremaining: 2.98s\n",
            "3:\tlearn: 0.4897968\ttotal: 104ms\tremaining: 2.5s\n",
            "4:\tlearn: 0.4562078\ttotal: 114ms\tremaining: 2.17s\n",
            "5:\tlearn: 0.4267130\ttotal: 124ms\tremaining: 1.94s\n",
            "6:\tlearn: 0.4020932\ttotal: 134ms\tremaining: 1.77s\n",
            "7:\tlearn: 0.3810645\ttotal: 143ms\tremaining: 1.65s\n",
            "8:\tlearn: 0.3605078\ttotal: 170ms\tremaining: 1.72s\n",
            "9:\tlearn: 0.3435406\ttotal: 203ms\tremaining: 1.83s\n",
            "10:\tlearn: 0.3282591\ttotal: 235ms\tremaining: 1.9s\n",
            "11:\tlearn: 0.3149913\ttotal: 270ms\tremaining: 1.98s\n",
            "12:\tlearn: 0.3026401\ttotal: 294ms\tremaining: 1.97s\n",
            "13:\tlearn: 0.2907372\ttotal: 321ms\tremaining: 1.97s\n",
            "14:\tlearn: 0.2809915\ttotal: 354ms\tremaining: 2s\n",
            "15:\tlearn: 0.2727345\ttotal: 386ms\tremaining: 2.03s\n",
            "16:\tlearn: 0.2646585\ttotal: 419ms\tremaining: 2.04s\n",
            "17:\tlearn: 0.2572729\ttotal: 447ms\tremaining: 2.04s\n",
            "18:\tlearn: 0.2508356\ttotal: 484ms\tremaining: 2.06s\n",
            "19:\tlearn: 0.2448311\ttotal: 510ms\tremaining: 2.04s\n",
            "20:\tlearn: 0.2389017\ttotal: 538ms\tremaining: 2.02s\n",
            "21:\tlearn: 0.2337014\ttotal: 570ms\tremaining: 2.02s\n",
            "22:\tlearn: 0.2289860\ttotal: 599ms\tremaining: 2s\n",
            "23:\tlearn: 0.2244716\ttotal: 618ms\tremaining: 1.96s\n",
            "24:\tlearn: 0.2203421\ttotal: 650ms\tremaining: 1.95s\n",
            "25:\tlearn: 0.2167976\ttotal: 673ms\tremaining: 1.91s\n",
            "26:\tlearn: 0.2133249\ttotal: 702ms\tremaining: 1.9s\n",
            "27:\tlearn: 0.2103795\ttotal: 729ms\tremaining: 1.87s\n",
            "28:\tlearn: 0.2070202\ttotal: 759ms\tremaining: 1.86s\n",
            "29:\tlearn: 0.2039448\ttotal: 792ms\tremaining: 1.85s\n",
            "30:\tlearn: 0.2013980\ttotal: 824ms\tremaining: 1.83s\n",
            "31:\tlearn: 0.1989504\ttotal: 847ms\tremaining: 1.8s\n",
            "32:\tlearn: 0.1965249\ttotal: 878ms\tremaining: 1.78s\n",
            "33:\tlearn: 0.1947202\ttotal: 907ms\tremaining: 1.76s\n",
            "34:\tlearn: 0.1920842\ttotal: 939ms\tremaining: 1.74s\n",
            "35:\tlearn: 0.1903345\ttotal: 960ms\tremaining: 1.71s\n",
            "36:\tlearn: 0.1883918\ttotal: 971ms\tremaining: 1.65s\n",
            "37:\tlearn: 0.1864890\ttotal: 982ms\tremaining: 1.6s\n",
            "38:\tlearn: 0.1846419\ttotal: 994ms\tremaining: 1.55s\n",
            "39:\tlearn: 0.1832566\ttotal: 1.01s\tremaining: 1.51s\n",
            "40:\tlearn: 0.1819475\ttotal: 1.02s\tremaining: 1.47s\n",
            "41:\tlearn: 0.1803745\ttotal: 1.03s\tremaining: 1.42s\n",
            "42:\tlearn: 0.1790784\ttotal: 1.04s\tremaining: 1.38s\n",
            "43:\tlearn: 0.1778616\ttotal: 1.05s\tremaining: 1.34s\n",
            "44:\tlearn: 0.1766412\ttotal: 1.08s\tremaining: 1.31s\n",
            "45:\tlearn: 0.1756047\ttotal: 1.09s\tremaining: 1.28s\n",
            "46:\tlearn: 0.1747765\ttotal: 1.1s\tremaining: 1.25s\n",
            "47:\tlearn: 0.1738130\ttotal: 1.14s\tremaining: 1.23s\n",
            "48:\tlearn: 0.1731852\ttotal: 1.15s\tremaining: 1.19s\n",
            "49:\tlearn: 0.1719450\ttotal: 1.16s\tremaining: 1.16s\n",
            "50:\tlearn: 0.1707601\ttotal: 1.17s\tremaining: 1.12s\n",
            "51:\tlearn: 0.1699058\ttotal: 1.18s\tremaining: 1.09s\n",
            "52:\tlearn: 0.1691504\ttotal: 1.2s\tremaining: 1.06s\n",
            "53:\tlearn: 0.1680849\ttotal: 1.21s\tremaining: 1.03s\n",
            "54:\tlearn: 0.1670842\ttotal: 1.22s\tremaining: 998ms\n",
            "55:\tlearn: 0.1666365\ttotal: 1.23s\tremaining: 970ms\n",
            "56:\tlearn: 0.1659444\ttotal: 1.25s\tremaining: 939ms\n",
            "57:\tlearn: 0.1654327\ttotal: 1.26s\tremaining: 911ms\n",
            "58:\tlearn: 0.1647043\ttotal: 1.27s\tremaining: 883ms\n",
            "59:\tlearn: 0.1641483\ttotal: 1.28s\tremaining: 855ms\n",
            "60:\tlearn: 0.1632504\ttotal: 1.31s\tremaining: 838ms\n",
            "61:\tlearn: 0.1628139\ttotal: 1.34s\tremaining: 823ms\n",
            "62:\tlearn: 0.1621515\ttotal: 1.37s\tremaining: 806ms\n",
            "63:\tlearn: 0.1615717\ttotal: 1.4s\tremaining: 789ms\n",
            "64:\tlearn: 0.1606455\ttotal: 1.43s\tremaining: 773ms\n",
            "65:\tlearn: 0.1599723\ttotal: 1.47s\tremaining: 756ms\n",
            "66:\tlearn: 0.1593422\ttotal: 1.5s\tremaining: 739ms\n",
            "67:\tlearn: 0.1585294\ttotal: 1.53s\tremaining: 718ms\n",
            "68:\tlearn: 0.1579945\ttotal: 1.56s\tremaining: 700ms\n",
            "69:\tlearn: 0.1576213\ttotal: 1.58s\tremaining: 677ms\n",
            "70:\tlearn: 0.1573406\ttotal: 1.61s\tremaining: 657ms\n",
            "71:\tlearn: 0.1567564\ttotal: 1.64s\tremaining: 638ms\n",
            "72:\tlearn: 0.1558053\ttotal: 1.67s\tremaining: 618ms\n",
            "73:\tlearn: 0.1555722\ttotal: 1.69s\tremaining: 595ms\n",
            "74:\tlearn: 0.1552330\ttotal: 1.71s\tremaining: 571ms\n",
            "75:\tlearn: 0.1545094\ttotal: 1.74s\tremaining: 550ms\n",
            "76:\tlearn: 0.1542640\ttotal: 1.75s\tremaining: 524ms\n",
            "77:\tlearn: 0.1540149\ttotal: 1.76s\tremaining: 497ms\n",
            "78:\tlearn: 0.1534590\ttotal: 1.77s\tremaining: 472ms\n",
            "79:\tlearn: 0.1529732\ttotal: 1.79s\tremaining: 447ms\n",
            "80:\tlearn: 0.1526371\ttotal: 1.8s\tremaining: 422ms\n",
            "81:\tlearn: 0.1522672\ttotal: 1.81s\tremaining: 398ms\n",
            "82:\tlearn: 0.1515407\ttotal: 1.84s\tremaining: 377ms\n",
            "83:\tlearn: 0.1512607\ttotal: 1.85s\tremaining: 353ms\n",
            "84:\tlearn: 0.1508323\ttotal: 1.87s\tremaining: 329ms\n",
            "85:\tlearn: 0.1506666\ttotal: 1.89s\tremaining: 308ms\n",
            "86:\tlearn: 0.1504070\ttotal: 1.93s\tremaining: 288ms\n",
            "87:\tlearn: 0.1502694\ttotal: 1.96s\tremaining: 267ms\n",
            "88:\tlearn: 0.1500660\ttotal: 1.98s\tremaining: 244ms\n",
            "89:\tlearn: 0.1497669\ttotal: 1.99s\tremaining: 221ms\n",
            "90:\tlearn: 0.1491969\ttotal: 2s\tremaining: 198ms\n",
            "91:\tlearn: 0.1487195\ttotal: 2.02s\tremaining: 175ms\n",
            "92:\tlearn: 0.1484036\ttotal: 2.03s\tremaining: 153ms\n",
            "93:\tlearn: 0.1481341\ttotal: 2.05s\tremaining: 131ms\n",
            "94:\tlearn: 0.1475868\ttotal: 2.06s\tremaining: 109ms\n",
            "95:\tlearn: 0.1471058\ttotal: 2.07s\tremaining: 86.4ms\n",
            "96:\tlearn: 0.1467198\ttotal: 2.08s\tremaining: 64.5ms\n",
            "97:\tlearn: 0.1462464\ttotal: 2.1s\tremaining: 42.8ms\n",
            "98:\tlearn: 0.1459086\ttotal: 2.11s\tremaining: 21.3ms\n",
            "99:\tlearn: 0.1455618\ttotal: 2.13s\tremaining: 0us\n"
          ]
        }
      ]
    },
    {
      "cell_type": "code",
      "source": [
        "print('The accuracy of cat score is {} %'.format(cat_score))\n",
        "sns.heatmap(cat_con , annot=True , cbar=False , fmt='.6g')"
      ],
      "metadata": {
        "colab": {
          "base_uri": "https://localhost:8080/",
          "height": 300
        },
        "id": "yb4o7SX0xCya",
        "outputId": "93b028a0-4c76-4e8e-f482-42c62472cd64"
      },
      "execution_count": 201,
      "outputs": [
        {
          "output_type": "stream",
          "name": "stdout",
          "text": [
            "The accuracy of cat score is 0.9439391752081228 %\n"
          ]
        },
        {
          "output_type": "execute_result",
          "data": {
            "text/plain": [
              "<AxesSubplot:>"
            ]
          },
          "metadata": {},
          "execution_count": 201
        },
        {
          "output_type": "display_data",
          "data": {
            "text/plain": [
              "<Figure size 432x288 with 1 Axes>"
            ],
            "image/png": "[encoded data removed]"
          },
          "metadata": {}
        }
      ]
    },
    {
      "cell_type": "markdown",
      "source": [
        "We are choosing random forest for model building."
      ],
      "metadata": {
        "id": "healMuneyS5e"
      }
    },
    {
      "cell_type": "code",
      "source": [
        "import pickle\n",
        "filename = 'random_model.sav'\n",
        "pickle.dump(rfc_hyper , open(filename , 'wb'))"
      ],
      "metadata": {
        "id": "X2zSVxOVxbVh"
      },
      "execution_count": 202,
      "outputs": []
    },
    {
      "cell_type": "code",
      "source": [],
      "metadata": {
        "id": "EUL-XKdrza0Q"
      },
      "execution_count": null,
      "outputs": []
    }
  ]
}